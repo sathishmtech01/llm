{
 "cells": [
  {
   "cell_type": "code",
   "execution_count": 3,
   "metadata": {},
   "outputs": [],
   "source": [
    "from elasticsearch import Elasticsearch"
   ]
  },
  {
   "cell_type": "code",
   "execution_count": 5,
   "metadata": {},
   "outputs": [
    {
     "data": {
      "text/plain": [
       "True"
      ]
     },
     "execution_count": 5,
     "metadata": {},
     "output_type": "execute_result"
    }
   ],
   "source": [
    "es = Elasticsearch(\n",
    "    \"https://localhost:9200\",\n",
    "    basic_auth=(\"elastic\",\"2_GVpd5-eAWZf10CGmxS\"),\n",
    "    ca_certs=\"/Users/sathishkumarchandran/elasticsearch-8.11.0/config/certs/http_ca.crt\"\n",
    ")\n",
    "es.ping()"
   ]
  },
  {
   "cell_type": "markdown",
   "metadata": {},
   "source": [
    "## Prepare the data"
   ]
  },
  {
   "cell_type": "code",
   "execution_count": 6,
   "metadata": {},
   "outputs": [
    {
     "data": {
      "text/html": [
       "<div>\n",
       "<style scoped>\n",
       "    .dataframe tbody tr th:only-of-type {\n",
       "        vertical-align: middle;\n",
       "    }\n",
       "\n",
       "    .dataframe tbody tr th {\n",
       "        vertical-align: top;\n",
       "    }\n",
       "\n",
       "    .dataframe thead th {\n",
       "        text-align: right;\n",
       "    }\n",
       "</style>\n",
       "<table border=\"1\" class=\"dataframe\">\n",
       "  <thead>\n",
       "    <tr style=\"text-align: right;\">\n",
       "      <th></th>\n",
       "      <th>ProductID</th>\n",
       "      <th>ProductName</th>\n",
       "      <th>ProductBrand</th>\n",
       "      <th>Gender</th>\n",
       "      <th>Price (INR)</th>\n",
       "      <th>NumImages</th>\n",
       "      <th>Description</th>\n",
       "      <th>PrimaryColor</th>\n",
       "    </tr>\n",
       "  </thead>\n",
       "  <tbody>\n",
       "    <tr>\n",
       "      <th>0</th>\n",
       "      <td>10017413</td>\n",
       "      <td>DKNY Unisex Black &amp; Grey Printed Medium Trolle...</td>\n",
       "      <td>DKNY</td>\n",
       "      <td>Unisex</td>\n",
       "      <td>11745</td>\n",
       "      <td>7</td>\n",
       "      <td>Black and grey printed medium trolley bag, sec...</td>\n",
       "      <td>Black</td>\n",
       "    </tr>\n",
       "    <tr>\n",
       "      <th>1</th>\n",
       "      <td>10016283</td>\n",
       "      <td>EthnoVogue Women Beige &amp; Grey Made to Measure ...</td>\n",
       "      <td>EthnoVogue</td>\n",
       "      <td>Women</td>\n",
       "      <td>5810</td>\n",
       "      <td>7</td>\n",
       "      <td>Beige &amp; Grey made to measure kurta with churid...</td>\n",
       "      <td>Beige</td>\n",
       "    </tr>\n",
       "    <tr>\n",
       "      <th>2</th>\n",
       "      <td>10009781</td>\n",
       "      <td>SPYKAR Women Pink Alexa Super Skinny Fit High-...</td>\n",
       "      <td>SPYKAR</td>\n",
       "      <td>Women</td>\n",
       "      <td>899</td>\n",
       "      <td>7</td>\n",
       "      <td>Pink coloured wash 5-pocket high-rise cropped ...</td>\n",
       "      <td>Pink</td>\n",
       "    </tr>\n",
       "    <tr>\n",
       "      <th>3</th>\n",
       "      <td>10015921</td>\n",
       "      <td>Raymond Men Blue Self-Design Single-Breasted B...</td>\n",
       "      <td>Raymond</td>\n",
       "      <td>Men</td>\n",
       "      <td>5599</td>\n",
       "      <td>5</td>\n",
       "      <td>Blue self-design bandhgala suitBlue self-desig...</td>\n",
       "      <td>Blue</td>\n",
       "    </tr>\n",
       "    <tr>\n",
       "      <th>4</th>\n",
       "      <td>10017833</td>\n",
       "      <td>Parx Men Brown &amp; Off-White Slim Fit Printed Ca...</td>\n",
       "      <td>Parx</td>\n",
       "      <td>Men</td>\n",
       "      <td>759</td>\n",
       "      <td>5</td>\n",
       "      <td>Brown and off-white printed casual shirt, has ...</td>\n",
       "      <td>White</td>\n",
       "    </tr>\n",
       "  </tbody>\n",
       "</table>\n",
       "</div>"
      ],
      "text/plain": [
       "   ProductID                                        ProductName ProductBrand  \\\n",
       "0   10017413  DKNY Unisex Black & Grey Printed Medium Trolle...         DKNY   \n",
       "1   10016283  EthnoVogue Women Beige & Grey Made to Measure ...   EthnoVogue   \n",
       "2   10009781  SPYKAR Women Pink Alexa Super Skinny Fit High-...       SPYKAR   \n",
       "3   10015921  Raymond Men Blue Self-Design Single-Breasted B...      Raymond   \n",
       "4   10017833  Parx Men Brown & Off-White Slim Fit Printed Ca...         Parx   \n",
       "\n",
       "   Gender  Price (INR)  NumImages  \\\n",
       "0  Unisex        11745          7   \n",
       "1   Women         5810          7   \n",
       "2   Women          899          7   \n",
       "3     Men         5599          5   \n",
       "4     Men          759          5   \n",
       "\n",
       "                                         Description PrimaryColor  \n",
       "0  Black and grey printed medium trolley bag, sec...        Black  \n",
       "1  Beige & Grey made to measure kurta with churid...        Beige  \n",
       "2  Pink coloured wash 5-pocket high-rise cropped ...         Pink  \n",
       "3  Blue self-design bandhgala suitBlue self-desig...         Blue  \n",
       "4  Brown and off-white printed casual shirt, has ...        White  "
      ]
     },
     "execution_count": 6,
     "metadata": {},
     "output_type": "execute_result"
    }
   ],
   "source": [
    "import pandas as pd\n",
    "\n",
    "df = pd.read_csv(\"myntra_products_catalog.csv\").loc[:499]\n",
    "df.head()"
   ]
  },
  {
   "cell_type": "code",
   "execution_count": 7,
   "metadata": {},
   "outputs": [
    {
     "data": {
      "text/plain": [
       "ProductID  ProductName  ProductBrand  Gender  Price (INR)  NumImages  Description  PrimaryColor\n",
       "False      False        False         False   False        False      False        False           468\n",
       "                                                                                   True             32\n",
       "Name: count, dtype: int64"
      ]
     },
     "execution_count": 7,
     "metadata": {},
     "output_type": "execute_result"
    }
   ],
   "source": [
    "df.isna().value_counts()"
   ]
  },
  {
   "cell_type": "code",
   "execution_count": 8,
   "metadata": {},
   "outputs": [],
   "source": [
    "df.fillna(\"None\", inplace=True)"
   ]
  },
  {
   "cell_type": "markdown",
   "metadata": {},
   "source": [
    "## Convert the relevant field to Vector using BERT model"
   ]
  },
  {
   "cell_type": "code",
   "execution_count": 11,
   "metadata": {},
   "outputs": [
    {
     "data": {
      "application/vnd.jupyter.widget-view+json": {
       "model_id": "2e07bd65e6f44fcd8cf76255fb23eee5",
       "version_major": 2,
       "version_minor": 0
      },
      "text/plain": [
       "Downloading (…)99753/.gitattributes:   0%|          | 0.00/1.18k [00:00<?, ?B/s]"
      ]
     },
     "metadata": {},
     "output_type": "display_data"
    },
    {
     "data": {
      "application/vnd.jupyter.widget-view+json": {
       "model_id": "9f1a21b24844424a972a71673ad7dc33",
       "version_major": 2,
       "version_minor": 0
      },
      "text/plain": [
       "Downloading (…)_Pooling/config.json:   0%|          | 0.00/190 [00:00<?, ?B/s]"
      ]
     },
     "metadata": {},
     "output_type": "display_data"
    },
    {
     "data": {
      "application/vnd.jupyter.widget-view+json": {
       "model_id": "768c6ed6ead0469b9e03228fe5077d42",
       "version_major": 2,
       "version_minor": 0
      },
      "text/plain": [
       "Downloading (…)0cdb299753/README.md:   0%|          | 0.00/10.6k [00:00<?, ?B/s]"
      ]
     },
     "metadata": {},
     "output_type": "display_data"
    },
    {
     "data": {
      "application/vnd.jupyter.widget-view+json": {
       "model_id": "71442f5923ff4a01884e5d86c4704565",
       "version_major": 2,
       "version_minor": 0
      },
      "text/plain": [
       "Downloading (…)db299753/config.json:   0%|          | 0.00/571 [00:00<?, ?B/s]"
      ]
     },
     "metadata": {},
     "output_type": "display_data"
    },
    {
     "data": {
      "application/vnd.jupyter.widget-view+json": {
       "model_id": "58151f0fc5a242609898fbfabe412f23",
       "version_major": 2,
       "version_minor": 0
      },
      "text/plain": [
       "Downloading (…)ce_transformers.json:   0%|          | 0.00/116 [00:00<?, ?B/s]"
      ]
     },
     "metadata": {},
     "output_type": "display_data"
    },
    {
     "data": {
      "application/vnd.jupyter.widget-view+json": {
       "model_id": "446f77e3fb634f2d8ad7d5e23bb28348",
       "version_major": 2,
       "version_minor": 0
      },
      "text/plain": [
       "Downloading (…)753/data_config.json:   0%|          | 0.00/39.3k [00:00<?, ?B/s]"
      ]
     },
     "metadata": {},
     "output_type": "display_data"
    },
    {
     "data": {
      "application/vnd.jupyter.widget-view+json": {
       "model_id": "9c4b062dcbf240ee9d26b57e421663d6",
       "version_major": 2,
       "version_minor": 0
      },
      "text/plain": [
       "Downloading pytorch_model.bin:   0%|          | 0.00/438M [00:00<?, ?B/s]"
      ]
     },
     "metadata": {},
     "output_type": "display_data"
    },
    {
     "data": {
      "application/vnd.jupyter.widget-view+json": {
       "model_id": "086a2dab86fe400ba5ccaf979bbd89c0",
       "version_major": 2,
       "version_minor": 0
      },
      "text/plain": [
       "Downloading (…)nce_bert_config.json:   0%|          | 0.00/53.0 [00:00<?, ?B/s]"
      ]
     },
     "metadata": {},
     "output_type": "display_data"
    },
    {
     "data": {
      "application/vnd.jupyter.widget-view+json": {
       "model_id": "302e8d0486fd414cbda76c6796a9d38c",
       "version_major": 2,
       "version_minor": 0
      },
      "text/plain": [
       "Downloading (…)cial_tokens_map.json:   0%|          | 0.00/239 [00:00<?, ?B/s]"
      ]
     },
     "metadata": {},
     "output_type": "display_data"
    },
    {
     "data": {
      "application/vnd.jupyter.widget-view+json": {
       "model_id": "eda180d7532e48f5ae29d2f2adba839e",
       "version_major": 2,
       "version_minor": 0
      },
      "text/plain": [
       "Downloading (…)99753/tokenizer.json:   0%|          | 0.00/466k [00:00<?, ?B/s]"
      ]
     },
     "metadata": {},
     "output_type": "display_data"
    },
    {
     "data": {
      "application/vnd.jupyter.widget-view+json": {
       "model_id": "4be23897c00348228d34b6f48c63d60a",
       "version_major": 2,
       "version_minor": 0
      },
      "text/plain": [
       "Downloading (…)okenizer_config.json:   0%|          | 0.00/363 [00:00<?, ?B/s]"
      ]
     },
     "metadata": {},
     "output_type": "display_data"
    },
    {
     "data": {
      "application/vnd.jupyter.widget-view+json": {
       "model_id": "f9d0ed1ab92a4aa6bc40935018412dc8",
       "version_major": 2,
       "version_minor": 0
      },
      "text/plain": [
       "Downloading (…)9753/train_script.py:   0%|          | 0.00/13.1k [00:00<?, ?B/s]"
      ]
     },
     "metadata": {},
     "output_type": "display_data"
    },
    {
     "data": {
      "application/vnd.jupyter.widget-view+json": {
       "model_id": "7218b35583294d589daa21fd5cd29db4",
       "version_major": 2,
       "version_minor": 0
      },
      "text/plain": [
       "Downloading (…)0cdb299753/vocab.txt:   0%|          | 0.00/232k [00:00<?, ?B/s]"
      ]
     },
     "metadata": {},
     "output_type": "display_data"
    },
    {
     "data": {
      "application/vnd.jupyter.widget-view+json": {
       "model_id": "2091bbef20d84b58a4ded3f4bc8d08d6",
       "version_major": 2,
       "version_minor": 0
      },
      "text/plain": [
       "Downloading (…)b299753/modules.json:   0%|          | 0.00/349 [00:00<?, ?B/s]"
      ]
     },
     "metadata": {},
     "output_type": "display_data"
    }
   ],
   "source": [
    "from sentence_transformers import SentenceTransformer\n",
    "model = SentenceTransformer('all-mpnet-base-v2')"
   ]
  },
  {
   "cell_type": "code",
   "execution_count": 12,
   "metadata": {},
   "outputs": [],
   "source": [
    "df[\"DescriptionVector\"] = df[\"Description\"].apply(lambda x: model.encode(x))"
   ]
  },
  {
   "cell_type": "code",
   "execution_count": 13,
   "metadata": {},
   "outputs": [
    {
     "data": {
      "text/html": [
       "<div>\n",
       "<style scoped>\n",
       "    .dataframe tbody tr th:only-of-type {\n",
       "        vertical-align: middle;\n",
       "    }\n",
       "\n",
       "    .dataframe tbody tr th {\n",
       "        vertical-align: top;\n",
       "    }\n",
       "\n",
       "    .dataframe thead th {\n",
       "        text-align: right;\n",
       "    }\n",
       "</style>\n",
       "<table border=\"1\" class=\"dataframe\">\n",
       "  <thead>\n",
       "    <tr style=\"text-align: right;\">\n",
       "      <th></th>\n",
       "      <th>ProductID</th>\n",
       "      <th>ProductName</th>\n",
       "      <th>ProductBrand</th>\n",
       "      <th>Gender</th>\n",
       "      <th>Price (INR)</th>\n",
       "      <th>NumImages</th>\n",
       "      <th>Description</th>\n",
       "      <th>PrimaryColor</th>\n",
       "      <th>DescriptionVector</th>\n",
       "    </tr>\n",
       "  </thead>\n",
       "  <tbody>\n",
       "    <tr>\n",
       "      <th>0</th>\n",
       "      <td>10017413</td>\n",
       "      <td>DKNY Unisex Black &amp; Grey Printed Medium Trolle...</td>\n",
       "      <td>DKNY</td>\n",
       "      <td>Unisex</td>\n",
       "      <td>11745</td>\n",
       "      <td>7</td>\n",
       "      <td>Black and grey printed medium trolley bag, sec...</td>\n",
       "      <td>Black</td>\n",
       "      <td>[0.027645895, -0.0026341379, -0.0035884182, 0....</td>\n",
       "    </tr>\n",
       "    <tr>\n",
       "      <th>1</th>\n",
       "      <td>10016283</td>\n",
       "      <td>EthnoVogue Women Beige &amp; Grey Made to Measure ...</td>\n",
       "      <td>EthnoVogue</td>\n",
       "      <td>Women</td>\n",
       "      <td>5810</td>\n",
       "      <td>7</td>\n",
       "      <td>Beige &amp; Grey made to measure kurta with churid...</td>\n",
       "      <td>Beige</td>\n",
       "      <td>[-0.02466072, -0.028755408, -0.020332498, 0.03...</td>\n",
       "    </tr>\n",
       "    <tr>\n",
       "      <th>2</th>\n",
       "      <td>10009781</td>\n",
       "      <td>SPYKAR Women Pink Alexa Super Skinny Fit High-...</td>\n",
       "      <td>SPYKAR</td>\n",
       "      <td>Women</td>\n",
       "      <td>899</td>\n",
       "      <td>7</td>\n",
       "      <td>Pink coloured wash 5-pocket high-rise cropped ...</td>\n",
       "      <td>Pink</td>\n",
       "      <td>[-0.046943244, 0.081828, 0.048335172, -0.00015...</td>\n",
       "    </tr>\n",
       "    <tr>\n",
       "      <th>3</th>\n",
       "      <td>10015921</td>\n",
       "      <td>Raymond Men Blue Self-Design Single-Breasted B...</td>\n",
       "      <td>Raymond</td>\n",
       "      <td>Men</td>\n",
       "      <td>5599</td>\n",
       "      <td>5</td>\n",
       "      <td>Blue self-design bandhgala suitBlue self-desig...</td>\n",
       "      <td>Blue</td>\n",
       "      <td>[-0.015098789, -0.010285395, 0.0094873, -0.023...</td>\n",
       "    </tr>\n",
       "    <tr>\n",
       "      <th>4</th>\n",
       "      <td>10017833</td>\n",
       "      <td>Parx Men Brown &amp; Off-White Slim Fit Printed Ca...</td>\n",
       "      <td>Parx</td>\n",
       "      <td>Men</td>\n",
       "      <td>759</td>\n",
       "      <td>5</td>\n",
       "      <td>Brown and off-white printed casual shirt, has ...</td>\n",
       "      <td>White</td>\n",
       "      <td>[-0.017746538, 0.006209655, 0.021813951, 0.026...</td>\n",
       "    </tr>\n",
       "  </tbody>\n",
       "</table>\n",
       "</div>"
      ],
      "text/plain": [
       "   ProductID                                        ProductName ProductBrand  \\\n",
       "0   10017413  DKNY Unisex Black & Grey Printed Medium Trolle...         DKNY   \n",
       "1   10016283  EthnoVogue Women Beige & Grey Made to Measure ...   EthnoVogue   \n",
       "2   10009781  SPYKAR Women Pink Alexa Super Skinny Fit High-...       SPYKAR   \n",
       "3   10015921  Raymond Men Blue Self-Design Single-Breasted B...      Raymond   \n",
       "4   10017833  Parx Men Brown & Off-White Slim Fit Printed Ca...         Parx   \n",
       "\n",
       "   Gender  Price (INR)  NumImages  \\\n",
       "0  Unisex        11745          7   \n",
       "1   Women         5810          7   \n",
       "2   Women          899          7   \n",
       "3     Men         5599          5   \n",
       "4     Men          759          5   \n",
       "\n",
       "                                         Description PrimaryColor  \\\n",
       "0  Black and grey printed medium trolley bag, sec...        Black   \n",
       "1  Beige & Grey made to measure kurta with churid...        Beige   \n",
       "2  Pink coloured wash 5-pocket high-rise cropped ...         Pink   \n",
       "3  Blue self-design bandhgala suitBlue self-desig...         Blue   \n",
       "4  Brown and off-white printed casual shirt, has ...        White   \n",
       "\n",
       "                                   DescriptionVector  \n",
       "0  [0.027645895, -0.0026341379, -0.0035884182, 0....  \n",
       "1  [-0.02466072, -0.028755408, -0.020332498, 0.03...  \n",
       "2  [-0.046943244, 0.081828, 0.048335172, -0.00015...  \n",
       "3  [-0.015098789, -0.010285395, 0.0094873, -0.023...  \n",
       "4  [-0.017746538, 0.006209655, 0.021813951, 0.026...  "
      ]
     },
     "execution_count": 13,
     "metadata": {},
     "output_type": "execute_result"
    }
   ],
   "source": [
    "df.head()"
   ]
  },
  {
   "cell_type": "code",
   "execution_count": 21,
   "metadata": {},
   "outputs": [
    {
     "data": {
      "text/plain": [
       "array([ 2.76458953e-02, -2.63413787e-03, -3.58841824e-03,  5.13588004e-02,\n",
       "        3.09661310e-02,  1.40507957e-02,  7.27065932e-03,  3.13872620e-02,\n",
       "       -6.23786971e-02, -3.82888573e-03,  3.15214135e-02,  7.55471811e-02,\n",
       "        2.12644250e-03,  4.64892872e-02,  5.07448874e-02, -1.71941947e-02,\n",
       "        1.22893630e-02, -1.95682757e-02, -9.64851603e-02,  3.52679566e-03,\n",
       "       -1.83508862e-02,  2.58225389e-02, -3.12243979e-02,  5.46113178e-02,\n",
       "        2.11241543e-02,  8.97172838e-03,  1.99165810e-02,  2.25223228e-02,\n",
       "        5.33200195e-03, -5.24596833e-02,  2.56654937e-02, -2.64644492e-02,\n",
       "        1.60460006e-02, -2.47585364e-02,  1.45433091e-06, -5.99340610e-02,\n",
       "       -4.21298407e-02, -5.82049973e-03, -1.85585842e-02, -6.88412488e-02,\n",
       "        4.52963151e-02,  7.06153177e-03,  3.00954878e-02, -7.18991458e-02,\n",
       "        2.67853476e-02, -6.78085536e-02,  1.52005441e-02,  7.82435238e-02,\n",
       "       -3.86550501e-02, -1.53425662e-02,  3.39756869e-02,  1.37783047e-02,\n",
       "       -1.47240870e-02, -2.74835574e-03,  2.31590737e-02, -4.98685613e-02,\n",
       "       -5.12826582e-03,  5.24751320e-02,  1.36131980e-02, -1.93230268e-02,\n",
       "       -2.72569265e-02,  4.11068089e-02,  4.80893888e-02, -2.70953849e-02,\n",
       "        4.11907881e-02,  4.60446998e-02, -6.37177005e-02,  1.31804822e-02,\n",
       "        1.30295230e-03,  4.09116708e-02,  6.41554296e-02, -4.79833856e-02,\n",
       "        1.10392214e-03,  7.25232884e-02, -7.41510521e-05,  2.57204124e-03,\n",
       "        2.96356790e-02,  2.96356194e-02,  1.66540165e-02,  1.16769262e-02,\n",
       "       -4.72040325e-02,  6.52726218e-02, -5.69467805e-02,  5.62868416e-02,\n",
       "        2.87739020e-02,  3.27831246e-02,  2.21508164e-02,  2.87625808e-02,\n",
       "        9.41019505e-03, -2.78683137e-02,  5.07240742e-03, -1.35144684e-02,\n",
       "        2.92993709e-02,  1.73487030e-02, -7.76377786e-03, -8.01694989e-02,\n",
       "        5.42521328e-02, -5.81912734e-02,  3.02955452e-02, -2.88303383e-02,\n",
       "        1.04821501e-02,  4.99632210e-02, -1.98193789e-02,  2.69690691e-03,\n",
       "       -5.78289898e-03,  3.49556804e-02, -1.04184626e-02, -1.53069117e-03,\n",
       "       -8.06271806e-02,  3.73889282e-02,  2.62706000e-02, -2.40433402e-02,\n",
       "       -4.65659350e-02,  3.46576869e-02, -3.50579247e-02,  2.76909489e-02,\n",
       "       -1.99474879e-02,  2.66633015e-02,  3.83038856e-02, -3.57971597e-03,\n",
       "       -1.11199711e-02, -3.43021192e-02, -5.00616729e-02, -2.43401597e-03,\n",
       "        2.01842673e-02, -4.51828763e-02, -4.48808037e-02, -4.15881164e-02,\n",
       "       -1.21017126e-02,  4.56552319e-02, -4.09715995e-02,  3.33762579e-02,\n",
       "        4.05118056e-02, -1.42123364e-02, -2.18980014e-02,  2.38488466e-02,\n",
       "       -3.59016880e-02, -3.51187028e-02, -5.59869297e-02, -2.04212479e-02,\n",
       "       -1.90296944e-03, -2.63333507e-02,  6.62044203e-03,  2.82203145e-02,\n",
       "       -3.89376841e-02, -3.85373235e-02,  3.99998277e-02,  3.73882917e-03,\n",
       "       -3.34511250e-02, -6.12203479e-02, -7.10495412e-02,  1.82613004e-02,\n",
       "        4.99361567e-02, -1.96538810e-02,  3.62080187e-02,  1.36305690e-02,\n",
       "        3.72649431e-02, -1.86512321e-02, -2.54693050e-02,  1.35054840e-02,\n",
       "        2.56374348e-02, -2.38314774e-02, -2.21329965e-02,  2.39107851e-03,\n",
       "       -5.98022528e-02, -2.13336740e-02, -9.58666950e-03, -6.31960807e-03,\n",
       "       -3.08500435e-02, -1.75864119e-02, -1.89545844e-02, -3.34729850e-02,\n",
       "       -2.12753518e-03, -3.45618185e-03, -1.71548948e-02,  7.40249082e-02,\n",
       "        3.30898748e-03, -5.94480224e-02, -4.20914963e-02, -4.85315034e-03,\n",
       "       -1.24043990e-02, -1.11631311e-01,  5.64271249e-02, -7.50050927e-03,\n",
       "       -2.17753183e-03, -8.79486464e-03, -5.20512741e-03,  2.68772896e-03,\n",
       "       -1.67976245e-02, -6.23680241e-02,  3.14838402e-02, -3.52154933e-02,\n",
       "        8.10608864e-02,  3.64167243e-02,  9.73855786e-04, -3.69658805e-02,\n",
       "        2.52885674e-03, -7.46889934e-02,  8.42569862e-03, -1.65020693e-02,\n",
       "       -7.72045329e-02, -1.85621623e-02,  5.66540053e-03, -1.47189442e-02,\n",
       "       -1.65351648e-02,  4.13799658e-02, -2.33761985e-02,  9.85999964e-03,\n",
       "       -5.00026643e-02,  4.48239176e-03,  3.75415497e-02,  2.56805141e-02,\n",
       "       -2.02890532e-03, -5.84917255e-02, -1.47918807e-02, -1.84924342e-03,\n",
       "        2.87931599e-02, -2.44094953e-02,  1.05893975e-02,  4.51087691e-02,\n",
       "        6.12144321e-02,  1.33142052e-02,  5.87451383e-02, -1.59004424e-02,\n",
       "        4.00180221e-02,  1.64472926e-02,  1.43470149e-02, -2.68046856e-02,\n",
       "        7.16700479e-02,  8.84744246e-03, -6.41266862e-03,  1.15753140e-03,\n",
       "       -3.68435718e-02,  2.93020215e-02, -3.14095244e-02, -6.79310411e-03,\n",
       "        8.94471481e-02,  5.99376485e-02, -8.24592914e-03,  2.58783791e-02,\n",
       "       -4.22716662e-02,  1.91917308e-02,  2.88709591e-04,  4.13900893e-03,\n",
       "       -5.83747551e-02,  6.08171970e-02, -3.75355780e-02, -3.70274223e-02,\n",
       "       -6.11723447e-03, -1.42938429e-02, -8.24459270e-03,  1.60559407e-03,\n",
       "        3.51404659e-02, -1.88067481e-02, -2.16341075e-02, -5.51070608e-02,\n",
       "       -5.03757596e-03,  3.81735936e-02,  2.06448641e-02,  2.99760001e-03,\n",
       "        2.01756880e-02, -8.43658485e-03,  3.04714520e-03, -2.86360737e-03,\n",
       "        5.25486767e-02,  1.00493617e-03,  5.10404408e-02,  9.56355128e-03,\n",
       "        1.99478790e-02, -3.06443032e-02, -6.84515061e-03, -1.10092154e-02,\n",
       "        1.72651671e-02, -9.95550025e-03, -1.40040303e-02, -4.78950366e-02,\n",
       "        4.48318124e-02,  2.99808010e-03, -5.05877659e-03, -1.37886414e-02,\n",
       "       -1.93421114e-02, -2.25321278e-02, -4.01582681e-02, -2.50679031e-02,\n",
       "       -1.73990317e-02,  7.81948678e-03, -4.38657589e-02,  1.10517163e-02,\n",
       "       -5.72640495e-03,  2.99919732e-02, -4.39986102e-02, -4.38895542e-04,\n",
       "       -6.25573518e-03, -3.10894903e-02,  1.94590297e-02, -2.74248328e-02,\n",
       "       -9.93121881e-03, -4.21830714e-02,  2.52597369e-02,  2.97784563e-02,\n",
       "        4.61618369e-03, -3.88784930e-02, -3.68001945e-02,  8.19749013e-03,\n",
       "       -1.57798827e-03, -3.11211776e-03,  2.27061603e-02, -3.63273211e-02,\n",
       "       -2.32268479e-02,  3.96531820e-02, -1.75962318e-02,  7.61352526e-03,\n",
       "       -4.49805856e-02, -9.71956700e-02,  6.55071763e-03, -4.07044068e-02,\n",
       "       -4.23452929e-02,  2.21425518e-02, -1.69916488e-02,  9.62368473e-02,\n",
       "       -4.27954197e-02,  2.88663097e-02,  3.25763412e-02, -1.60414707e-02,\n",
       "       -2.20179018e-02, -4.18680422e-02, -6.52636364e-02, -2.43135896e-02,\n",
       "        3.35065313e-02, -2.16999762e-02,  4.89503667e-02, -3.22209895e-02,\n",
       "        5.66818491e-02,  3.94777991e-02, -6.04452752e-02, -8.55641812e-02,\n",
       "       -4.11012843e-02, -5.89926401e-03,  4.48788963e-02,  3.86384167e-02,\n",
       "        2.37329770e-02, -3.74426553e-03, -7.40809925e-03, -3.48130539e-02,\n",
       "       -1.26406942e-02, -8.32107440e-02, -7.77608482e-03,  8.24031362e-04,\n",
       "       -2.08234880e-02,  4.96381801e-03,  1.02756694e-02,  7.34596923e-02,\n",
       "        4.56728190e-02, -1.11290766e-02, -8.89199844e-04,  3.50866914e-02,\n",
       "       -5.21426206e-04,  3.29105631e-02,  3.92490923e-02,  9.39380657e-03,\n",
       "       -3.05089373e-02,  1.42531963e-02, -1.87991114e-04,  1.48092220e-02,\n",
       "        3.88668254e-02,  2.09767465e-02,  1.69476662e-02,  6.42409027e-02,\n",
       "        1.02790082e-02,  1.05284359e-02,  4.56122607e-02,  4.24702056e-02,\n",
       "        3.24789658e-02,  3.20182182e-02, -2.87148003e-02, -7.86706898e-03,\n",
       "        9.84598789e-03,  4.08063643e-02, -1.92642007e-02, -6.10285066e-03,\n",
       "        5.00562079e-02,  1.64055508e-02,  4.35197577e-02, -1.09658185e-02,\n",
       "        3.21553238e-02, -3.21289860e-02,  4.05219290e-03, -1.42193036e-02,\n",
       "       -1.72176845e-02, -2.24060696e-02,  3.41361128e-02,  1.79262906e-02,\n",
       "       -8.28825962e-03,  5.04025295e-02, -3.55287716e-02,  2.78952941e-02,\n",
       "        2.46787560e-03, -2.67916988e-03, -3.25403623e-02,  1.17414705e-02,\n",
       "       -2.00907551e-02,  4.24937084e-02,  3.08380108e-02,  1.66973546e-02,\n",
       "        3.07387952e-02, -4.58765626e-02, -5.39871631e-03,  1.92521140e-02,\n",
       "       -2.37640738e-02, -4.52493951e-02, -3.50061320e-02, -6.26823260e-03,\n",
       "       -3.49792130e-02,  6.37187138e-02, -4.95002158e-02, -8.27830210e-02,\n",
       "        2.43394240e-03, -7.25409240e-02,  5.77693656e-02, -3.55351530e-02,\n",
       "        1.10671727e-03,  7.00633158e-04, -2.26269010e-02,  1.01695033e-02,\n",
       "        1.71284750e-02, -1.74754951e-02, -3.18571068e-02, -6.42487183e-02,\n",
       "       -3.10207270e-02, -3.18854712e-02,  3.82461995e-02,  3.10538784e-02,\n",
       "       -2.99189799e-02,  1.83081720e-02, -5.88302948e-02, -2.38674432e-02,\n",
       "        3.73598449e-02,  2.49050651e-02, -6.08941726e-02, -8.83549359e-03,\n",
       "       -4.21161987e-02, -4.55484539e-02, -1.47926332e-02, -2.38328148e-02,\n",
       "       -4.74849436e-03, -4.89294827e-02, -1.93930380e-02, -4.01562825e-02,\n",
       "       -8.04082304e-03, -7.47549906e-02,  2.10546050e-03,  1.64749771e-02,\n",
       "        8.30394477e-02,  1.55175347e-02,  4.70302776e-02, -4.48355898e-02,\n",
       "        5.50825037e-02, -7.38568902e-02, -3.09092160e-02,  1.67553704e-02,\n",
       "        5.06773740e-02,  2.49253120e-02, -7.24060610e-02,  3.98996584e-02,\n",
       "        2.13697483e-03, -1.89519580e-02, -1.86338257e-02,  1.30078951e-02,\n",
       "        1.97983403e-02, -3.67519781e-02, -4.02529277e-02, -4.21343092e-03,\n",
       "       -1.62019301e-02, -3.34675144e-03,  4.09931615e-02, -2.45059971e-02,\n",
       "       -1.03827426e-02, -4.73150872e-02,  5.08266687e-02, -5.92377456e-03,\n",
       "       -3.16190359e-04, -6.27381494e-03,  1.60506275e-02,  1.63368639e-02,\n",
       "        2.72355471e-02,  2.05409564e-02,  2.15955004e-02, -1.16070760e-02,\n",
       "        1.46542406e-02, -5.12824804e-02,  1.71001125e-02, -6.01728074e-02,\n",
       "       -1.86469872e-02, -1.95506103e-02,  5.43012284e-02,  1.48305118e-01,\n",
       "        6.39536008e-02, -4.22859471e-03,  2.49035861e-02, -5.27662933e-02,\n",
       "        8.22673645e-03,  3.78339998e-02, -6.19609049e-03, -3.93907875e-02,\n",
       "        3.58749628e-02,  1.18882498e-02,  2.66932230e-02,  1.62879918e-02,\n",
       "        6.09421954e-02, -1.60512049e-02,  3.50113783e-04,  2.91722100e-02,\n",
       "       -7.17696594e-03, -2.95379460e-02,  6.30705655e-02,  5.02150171e-02,\n",
       "       -5.33039086e-02, -9.42941010e-03,  1.98486056e-02, -2.10121945e-02,\n",
       "        3.09327673e-02, -1.42166214e-02,  3.32839042e-02,  2.94382144e-02,\n",
       "        1.26158511e-02,  4.95137870e-02,  1.15885064e-02,  2.58321851e-03,\n",
       "        4.47752997e-02,  5.12729995e-02, -2.06900407e-02, -8.23473558e-03,\n",
       "       -7.23865815e-03,  1.32844029e-02, -5.08004576e-02,  7.57652447e-02,\n",
       "       -8.74614492e-02,  4.24298011e-02,  1.12237558e-02,  9.69537214e-05,\n",
       "       -4.58215661e-02, -1.55912172e-02,  2.53331643e-02, -5.37834363e-03,\n",
       "       -3.63500672e-04,  3.69622447e-02, -4.63643782e-02, -1.23733759e-03,\n",
       "        5.76699562e-02, -7.09539577e-02,  1.54587049e-02, -6.11975491e-02,\n",
       "       -1.10918775e-01, -3.09230993e-03,  2.27634925e-02, -4.78635843e-33,\n",
       "        3.12270466e-02, -6.63603023e-02, -2.36831717e-02,  2.42749527e-02,\n",
       "       -2.04048119e-03, -4.47729044e-03,  4.22933884e-03, -4.12170589e-03,\n",
       "       -3.53075713e-02, -2.23747101e-02,  1.80854313e-02, -3.13033676e-03,\n",
       "        3.27593759e-02,  4.38897358e-03,  6.06583059e-02,  1.11368513e-02,\n",
       "        2.70508174e-02, -7.78132072e-03, -6.00773795e-03, -2.07057390e-02,\n",
       "       -3.77762131e-02, -9.80806816e-03,  4.01681364e-02,  3.02954745e-02,\n",
       "        5.43257110e-02, -9.85897258e-02, -2.94532697e-03,  2.91572884e-02,\n",
       "        3.44493128e-02, -8.56014062e-03, -7.64997602e-02,  2.66986177e-03,\n",
       "        2.50925235e-02,  3.52499969e-02,  5.67993112e-02,  2.29066201e-02,\n",
       "        5.05906120e-02, -4.30481732e-02,  3.37688811e-02,  9.36793908e-03,\n",
       "        1.14866216e-02, -5.23019247e-02, -1.63467806e-02, -1.74134299e-02,\n",
       "       -8.21404974e-05,  6.74260780e-03, -3.11616678e-02,  3.66182476e-02,\n",
       "       -3.53261866e-02,  1.54255209e-02,  6.49727508e-02,  1.90680064e-02,\n",
       "       -2.05425750e-02, -1.29934633e-02,  3.07242014e-02,  3.60369422e-02,\n",
       "       -7.30991550e-03, -3.42608169e-02,  3.69406305e-02, -1.68615468e-02,\n",
       "       -6.95912093e-02, -3.51376496e-02, -1.96793526e-02, -2.16357689e-02,\n",
       "       -1.91740487e-02, -7.22267665e-03, -9.27113835e-03,  3.80433239e-02,\n",
       "       -7.26440474e-02, -3.93156260e-02,  3.23908898e-04, -1.54596195e-02,\n",
       "       -5.66323586e-02, -2.86028683e-02, -3.38707678e-02, -8.40213057e-03,\n",
       "        3.27713042e-02, -1.23575488e-02,  5.67503683e-02,  1.07323572e-01,\n",
       "        1.62492576e-03,  1.98507514e-02, -4.92324978e-02,  4.31419443e-03,\n",
       "       -2.76762694e-02, -3.61421369e-02,  2.83705853e-02, -3.32536213e-02,\n",
       "        6.01910800e-02,  7.16080843e-03, -3.21194045e-02,  1.00305662e-01,\n",
       "        2.48313248e-02,  3.09539009e-02, -1.87186955e-03, -1.96664147e-02,\n",
       "        2.54117064e-02,  2.17062254e-02, -1.50587820e-02,  9.17002186e-03,\n",
       "        3.92966392e-03,  5.89959808e-02, -3.26567553e-02, -7.23024011e-02,\n",
       "        4.42397073e-02, -8.09960067e-03,  3.66033986e-02, -6.47036266e-03,\n",
       "       -5.15289158e-02,  5.74737228e-02,  3.27605121e-02, -3.47869582e-02,\n",
       "        1.15337153e-03, -5.10834828e-02, -2.02772929e-03, -1.37377409e-02,\n",
       "       -2.26372178e-03, -1.46536259e-02,  2.56579705e-02, -3.41950879e-02,\n",
       "        3.11360341e-02,  1.11530274e-02, -2.26281248e-02, -1.86227742e-04,\n",
       "       -3.42382267e-02, -3.47220083e-03,  7.12005934e-03,  2.85438057e-02,\n",
       "        3.43616605e-02,  4.17479090e-02,  1.46220708e-02, -1.00900317e-02,\n",
       "        2.19874551e-07,  1.26043262e-04, -3.26406844e-02,  2.73181088e-02,\n",
       "       -4.31562029e-02,  6.41153008e-03,  3.25414888e-03,  2.88393861e-03,\n",
       "        1.68630760e-02, -3.92221101e-03, -3.99216898e-02, -2.82338653e-02,\n",
       "        6.63914531e-03,  9.65183787e-03, -6.47039444e-04,  8.58047679e-02,\n",
       "       -5.46625853e-02,  9.56461728e-02, -3.35841700e-02, -3.86988819e-02,\n",
       "        1.08060371e-02,  8.10266659e-02,  4.47366759e-03,  5.54965436e-02,\n",
       "        2.06635185e-02, -1.76942814e-02, -7.89712220e-02, -9.13339574e-03,\n",
       "       -5.91490529e-02, -1.78459845e-02, -2.83568855e-02,  2.71815248e-02,\n",
       "        2.92243995e-02, -4.04383466e-02, -2.55332049e-02,  1.53778326e-02,\n",
       "        1.23813991e-02,  2.65146457e-02,  4.36860770e-02,  7.80087486e-02,\n",
       "        1.78201031e-02, -3.01126186e-02,  1.06306262e-02, -5.10762297e-02,\n",
       "       -1.62147507e-02,  2.78100166e-02,  5.96089065e-02, -1.07443631e-02,\n",
       "        5.74155189e-02, -4.65736613e-02,  4.81007062e-03,  3.75612155e-02,\n",
       "       -2.49797553e-02,  1.24980733e-02,  3.64436880e-02, -1.03775049e-02,\n",
       "        3.94603498e-02,  5.78910336e-02, -5.18748946e-02, -1.85877364e-02,\n",
       "       -3.52996169e-03, -2.97394078e-02,  4.59077992e-02,  1.81129936e-03,\n",
       "        8.85515194e-03,  5.07806391e-02,  4.10647690e-03,  5.75010478e-03,\n",
       "        1.64168416e-34, -4.68515651e-03, -6.60453690e-03,  2.19717938e-02,\n",
       "       -4.97994572e-02,  2.23753490e-02,  8.27595184e-04,  6.58981279e-02,\n",
       "       -3.05624958e-02,  8.99443496e-03, -3.16481180e-02, -3.01024150e-02],\n",
       "      dtype=float32)"
      ]
     },
     "execution_count": 21,
     "metadata": {},
     "output_type": "execute_result"
    }
   ],
   "source": [
    "df[\"DescriptionVector\"].iloc[0]"
   ]
  },
  {
   "cell_type": "code",
   "execution_count": 22,
   "metadata": {},
   "outputs": [
    {
     "data": {
      "text/plain": [
       "768"
      ]
     },
     "execution_count": 22,
     "metadata": {},
     "output_type": "execute_result"
    }
   ],
   "source": [
    "len(df[\"DescriptionVector\"].iloc[0])"
   ]
  },
  {
   "cell_type": "code",
   "execution_count": 14,
   "metadata": {},
   "outputs": [
    {
     "data": {
      "text/plain": [
       "True"
      ]
     },
     "execution_count": 14,
     "metadata": {},
     "output_type": "execute_result"
    }
   ],
   "source": [
    "es.ping()"
   ]
  },
  {
   "cell_type": "markdown",
   "metadata": {},
   "source": [
    "## Create new index in ElasticSearch!"
   ]
  },
  {
   "cell_type": "code",
   "execution_count": 15,
   "metadata": {},
   "outputs": [
    {
     "data": {
      "text/plain": [
       "ObjectApiResponse({'acknowledged': True, 'shards_acknowledged': True, 'index': 'all_products'})"
      ]
     },
     "execution_count": 15,
     "metadata": {},
     "output_type": "execute_result"
    }
   ],
   "source": [
    "from indexMapping import indexMapping\n",
    "\n",
    "es.indices.create(index=\"all_products\", mappings=indexMapping)"
   ]
  },
  {
   "cell_type": "markdown",
   "metadata": {},
   "source": [
    "## Ingest the data into index"
   ]
  },
  {
   "cell_type": "code",
   "execution_count": 16,
   "metadata": {},
   "outputs": [],
   "source": [
    "record_list = df.to_dict(\"records\")"
   ]
  },
  {
   "cell_type": "code",
   "execution_count": 17,
   "metadata": {},
   "outputs": [],
   "source": [
    "for record in record_list:\n",
    "    try:\n",
    "        es.index(index=\"all_products\", document=record, id=record[\"ProductID\"])\n",
    "    except Exception as e:\n",
    "        print(e)"
   ]
  },
  {
   "cell_type": "code",
   "execution_count": 18,
   "metadata": {},
   "outputs": [
    {
     "data": {
      "text/plain": [
       "ObjectApiResponse({'count': 481, '_shards': {'total': 1, 'successful': 1, 'skipped': 0, 'failed': 0}})"
      ]
     },
     "execution_count": 18,
     "metadata": {},
     "output_type": "execute_result"
    }
   ],
   "source": [
    "es.count(index=\"all_products\")"
   ]
  },
  {
   "cell_type": "markdown",
   "metadata": {},
   "source": [
    "## Search the data"
   ]
  },
  {
   "cell_type": "code",
   "execution_count": 19,
   "metadata": {},
   "outputs": [
    {
     "name": "stderr",
     "output_type": "stream",
     "text": [
      "/var/folders/cf/1n82cp8j5477wf_t828mwrlh0000gn/T/ipykernel_24183/2784084207.py:11: ElasticsearchWarning: The kNN search API has been replaced by the `knn` option in the search API.\n",
      "  res = es.knn_search(index=\"all_products\", knn=query , source=[\"ProductName\",\"Description\"])\n"
     ]
    },
    {
     "data": {
      "text/plain": [
       "[{'_index': 'all_products',\n",
       "  '_id': '10018013',\n",
       "  '_score': 0.6142942,\n",
       "  '_source': {'ProductName': 'Puma Men Blue Sneakers',\n",
       "   'Description': 'A pair of round-toe blue sneakers, has regular styling, lace-up detailTextile upperCushioned footbedTextured and patterned outsoleWarranty: 3 monthsWarranty provided by brand/manufacturer'}},\n",
       " {'_index': 'all_products',\n",
       "  '_id': '10005997',\n",
       "  '_score': 0.5837572,\n",
       "  '_source': {'ProductName': 'ID Men Navy Blue Solid Leather Mid-Top Sneakers',\n",
       "   'Description': 'A pair of round-toe navy blue sneakers, has mid-top styling, lace-up detailLeather upperCushioned footbedTextured and patterned outsoleWarranty: 3 monthsWarranty provided by brand/manufacturer'}}]"
      ]
     },
     "execution_count": 19,
     "metadata": {},
     "output_type": "execute_result"
    }
   ],
   "source": [
    "input_keyword = \"Blue Shoes\"\n",
    "vector_of_input_keyword = model.encode(input_keyword)\n",
    "\n",
    "query = {\n",
    "    \"field\" : \"DescriptionVector\",\n",
    "    \"query_vector\" : vector_of_input_keyword,\n",
    "    \"k\" : 2,\n",
    "    \"num_candidates\" : 500, \n",
    "}\n",
    "\n",
    "res = es.knn_search(index=\"all_products\", knn=query , source=[\"ProductName\",\"Description\"])\n",
    "res[\"hits\"][\"hits\"]"
   ]
  },
  {
   "cell_type": "code",
   "execution_count": null,
   "metadata": {},
   "outputs": [],
   "source": []
  }
 ],
 "metadata": {
  "kernelspec": {
   "display_name": "Python 3 (ipykernel)",
   "language": "python",
   "name": "python3"
  },
  "language_info": {
   "codemirror_mode": {
    "name": "ipython",
    "version": 3
   },
   "file_extension": ".py",
   "mimetype": "text/x-python",
   "name": "python",
   "nbconvert_exporter": "python",
   "pygments_lexer": "ipython3",
   "version": "3.11.5"
  }
 },
 "nbformat": 4,
 "nbformat_minor": 2
}
