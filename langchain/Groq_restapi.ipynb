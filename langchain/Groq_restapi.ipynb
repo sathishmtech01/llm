{
 "cells": [
  {
   "cell_type": "markdown",
   "id": "6461e783-4cf7-4627-af23-49089627b24e",
   "metadata": {},
   "source": [
    "# Rest method groq\n",
    "curl https://api.groq.com/openai/v1/chat/completions -s \\\n",
    "-H \"Content-Type: application/json\" \\\n",
    "-H \"Authorization: Bearer $GROQ_API_KEY\" \\\n",
    "-d '{\n",
    "\"model\": \"llama3-8b-8192\",\n",
    "\"messages\": [{\n",
    "    \"role\": \"user\",\n",
    "    \"content\": \"Explain the importance of fast language models\"\n",
    "}]\n",
    "}'"
   ]
  },
  {
   "cell_type": "code",
   "execution_count": 6,
   "id": "c3f14d2f-0835-43e0-9a2b-756a469e6828",
   "metadata": {
    "tags": []
   },
   "outputs": [],
   "source": [
    "import requests\n",
    "import getpass"
   ]
  },
  {
   "cell_type": "code",
   "execution_count": 44,
   "id": "4a04559b-5b54-4800-92de-d90a3d16f5d4",
   "metadata": {
    "tags": []
   },
   "outputs": [
    {
     "name": "stdout",
     "output_type": "stream",
     "text": [
      "\n",
      "Craft a detailed and professional response to a query in the manufacturing domain. \n",
      "Use concise language to address technical, operational, or logistical aspects, ensuring the answer is tailored to the context provided. \n",
      "Include relevant examples, technical terms, or processes common in manufacturing, and suggest actionable solutions or improvements if applicable. \n",
      "Be precise, and focus on adding value by referencing best practices, standards, or innovations in the field.\n",
      "Question : What is 8D analysis\n",
      "Answer:\n",
      "give complete sentence max 100 characters\n",
      "\n"
     ]
    }
   ],
   "source": [
    "# URL of the REST API endpoint\n",
    "url = \"https://api.groq.com/openai/v1/chat/completions\"\n",
    "question = \"What is 8D analysis\"\n",
    "prompt = \"\"\"\n",
    "Craft a detailed and professional response to a query in the manufacturing domain. \n",
    "Use concise language to address technical, operational, or logistical aspects, ensuring the answer is tailored to the context provided. \n",
    "Include relevant examples, technical terms, or processes common in manufacturing, and suggest actionable solutions or improvements if applicable. \n",
    "Be precise, and focus on adding value by referencing best practices, standards, or innovations in the field.\n",
    "Question : {question}\n",
    "Answer:\n",
    "give complete sentence max 100 characters\n",
    "\"\"\".format(question=question)\n",
    "\n",
    "# Data to send in the POST request\n",
    "data =  {\"model\": \"llama3-8b-8192\", \"messages\": [{ \"role\": \"user\", \"content\": prompt }] }\n",
    "print(prompt)"
   ]
  },
  {
   "cell_type": "code",
   "execution_count": 35,
   "id": "7ace0fec-13dc-4c79-b18a-752522c64820",
   "metadata": {
    "tags": []
   },
   "outputs": [
    {
     "name": "stdin",
     "output_type": "stream",
     "text": [
      "Groq Api Key ········\n"
     ]
    }
   ],
   "source": [
    "groq_api_key = getpass.getpass(prompt='Groq Api Key')"
   ]
  },
  {
   "cell_type": "code",
   "execution_count": 40,
   "id": "e6e2e5b1-fc25-4b01-bd66-24b0f2608e35",
   "metadata": {
    "tags": []
   },
   "outputs": [],
   "source": [
    "# Authorization header (Bearer Token example)\n",
    "headers = {\n",
    "    \"Authorization\": \"Bearer \"+groq_api_key,\n",
    "    \"Content-Type\": \"application/json\"\n",
    "}"
   ]
  },
  {
   "cell_type": "code",
   "execution_count": 41,
   "id": "57270f0f-16a8-4cc1-be06-790ddfd4e55e",
   "metadata": {
    "tags": []
   },
   "outputs": [
    {
     "data": {
      "text/plain": [
       "<Response [200]>"
      ]
     },
     "execution_count": 41,
     "metadata": {},
     "output_type": "execute_result"
    }
   ],
   "source": [
    "import requests\n",
    "\n",
    "# Send the POST request\n",
    "response = requests.post(url, json=data, headers=headers)\n",
    "\n",
    "\n",
    "response"
   ]
  },
  {
   "cell_type": "code",
   "execution_count": 42,
   "id": "fef1f3c9-41c8-409a-ae64-36dd10726c2c",
   "metadata": {
    "tags": []
   },
   "outputs": [
    {
     "name": "stdout",
     "output_type": "stream",
     "text": [
      "Success: {'id': 'chatcmpl-6400e49a-be49-4098-8fbd-98b8eb0947eb', 'object': 'chat.completion', 'created': 1735206614, 'model': 'llama3-8b-8192', 'choices': [{'index': 0, 'message': {'role': 'assistant', 'content': '8D analysis is a structured problem-solving methodology used in manufacturing to identify and correct root causes of product or process errors, ensuring corrective actions are implemented and monitored for effectiveness.'}, 'logprobs': None, 'finish_reason': 'stop'}], 'usage': {'queue_time': 0.162678211, 'prompt_tokens': 112, 'prompt_time': 0.043366277, 'completion_tokens': 35, 'completion_time': 0.029166667, 'total_tokens': 147, 'total_time': 0.072532944}, 'system_fingerprint': 'fp_6a6771ae9c', 'x_groq': {'id': 'req_01jg15zdkyf3er016n9xdzd89w'}}\n"
     ]
    }
   ],
   "source": [
    "# Check the response\n",
    "if response.status_code == 200:\n",
    "    print(\"Success:\", response.json())\n",
    "else:\n",
    "    print(\"Failed with status code:\", response.status_code)\n",
    "    print(\"Response:\", response.text)"
   ]
  },
  {
   "cell_type": "code",
   "execution_count": null,
   "id": "83ab7f7e-66bb-466d-a259-8b6c73fdfded",
   "metadata": {},
   "outputs": [],
   "source": []
  }
 ],
 "metadata": {
  "kernelspec": {
   "display_name": "Python 3 (ipykernel)",
   "language": "python",
   "name": "python3"
  },
  "language_info": {
   "codemirror_mode": {
    "name": "ipython",
    "version": 3
   },
   "file_extension": ".py",
   "mimetype": "text/x-python",
   "name": "python",
   "nbconvert_exporter": "python",
   "pygments_lexer": "ipython3",
   "version": "3.11.5"
  }
 },
 "nbformat": 4,
 "nbformat_minor": 5
}
