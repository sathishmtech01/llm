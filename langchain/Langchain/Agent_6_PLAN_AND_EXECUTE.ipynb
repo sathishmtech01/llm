{
 "cells": [
  {
   "cell_type": "markdown",
   "id": "bfc0b258-fb3f-44da-8517-8de3d0e6868a",
   "metadata": {},
   "source": [
    "# Agent 6 : Plan-and-Execute Agent (PLAN_AND_EXECUTE) "
   ]
  },
  {
   "cell_type": "markdown",
   "id": "acd1b478-ccd6-40c6-8ec4-323eb05dcb14",
   "metadata": {},
   "source": [
    "Reference - https://github.com/langchain-ai/langchain/blob/master/cookbook/plan_and_execute_agent.ipynb"
   ]
  },
  {
   "cell_type": "code",
   "execution_count": null,
   "id": "cfeacba9-72ee-431d-a747-fd5ee03984e5",
   "metadata": {},
   "outputs": [],
   "source": [
    "from langchain.chat_models import ChatOpenAI\n",
    "from langchain.agents import initialize_agent, AgentType\n",
    "from langchain.tools import Tool\n",
    "import getpass"
   ]
  },
  {
   "cell_type": "code",
   "execution_count": null,
   "id": "869773cf-bd06-4110-acce-2d4011774bfd",
   "metadata": {},
   "outputs": [
    {
     "name": "stdin",
     "output_type": "stream",
     "text": [
      "Openai Api Key ········\n"
     ]
    }
   ],
   "source": [
    "openai_api_key = getpass.getpass(prompt='Openai Api Key')"
   ]
  },
  {
   "cell_type": "code",
   "execution_count": 15,
   "id": "c0556edb-f685-4e8b-8062-aa9b6f2ebc97",
   "metadata": {
    "tags": []
   },
   "outputs": [],
   "source": [
    "from langchain.chains import LLMMathChain\n",
    "from langchain_community.utilities import DuckDuckGoSearchAPIWrapper\n",
    "from langchain_core.tools import Tool\n",
    "from langchain_experimental.plan_and_execute import (\n",
    "    PlanAndExecute,\n",
    "    load_agent_executor,\n",
    "    load_chat_planner,\n",
    ")\n",
    "from langchain_openai import ChatOpenAI, OpenAI"
   ]
  },
  {
   "cell_type": "markdown",
   "id": "2bb62a6b-65f1-41a2-bdab-616d0c485e2a",
   "metadata": {},
   "source": [
    "### Tools"
   ]
  },
  {
   "cell_type": "code",
   "execution_count": 24,
   "id": "8c01d5f7-c9a2-4e27-940b-525baf04523d",
   "metadata": {
    "tags": []
   },
   "outputs": [],
   "source": [
    "search = DuckDuckGoSearchAPIWrapper()\n",
    "llm = ChatOpenAI(model=\"gpt-4\",temperature=0,openai_api_key=openai_api_key)\n",
    "llm_math_chain = LLMMathChain.from_llm(llm=llm, verbose=True)\n",
    "tools = [\n",
    "    Tool(\n",
    "        name=\"Search\",\n",
    "        func=search.run,\n",
    "        description=\"useful for when you need to answer questions about current events\",\n",
    "    ),\n",
    "    Tool(\n",
    "        name=\"Calculator\",\n",
    "        func=llm_math_chain.run,\n",
    "        description=\"useful for when you need to answer questions about math\",\n",
    "    ),\n",
    "]"
   ]
  },
  {
   "cell_type": "markdown",
   "id": "267f69b6-bfc3-46cb-92fd-1ca8654ca3e4",
   "metadata": {},
   "source": [
    "### Planner, Executor, and Agent"
   ]
  },
  {
   "cell_type": "code",
   "execution_count": 25,
   "id": "967b3fc0-6c59-4de3-a0d8-028146e77ae9",
   "metadata": {
    "tags": []
   },
   "outputs": [],
   "source": [
    "model = ChatOpenAI(model=\"gpt-4\",temperature=0,openai_api_key=openai_api_key)\n",
    "planner = load_chat_planner(model)\n",
    "executor = load_agent_executor(model, tools, verbose=True)\n",
    "agent = PlanAndExecute(planner=planner, executor=executor)"
   ]
  },
  {
   "cell_type": "code",
   "execution_count": 26,
   "id": "7955056c-aa49-432f-afa3-1a4f5ecda042",
   "metadata": {
    "tags": []
   },
   "outputs": [
    {
     "name": "stdout",
     "output_type": "stream",
     "text": [
      "\n",
      "\n",
      "\u001b[1m> Entering new AgentExecutor chain...\u001b[0m\n",
      "\u001b[32;1m\u001b[1;3mThought: I need to find out who the current Prime Minister of the UK is. I can use the Search tool to find this information.\n",
      "\n",
      "Action:\n",
      "```\n",
      "{\n",
      "  \"action\": \"Search\",\n",
      "  \"action_input\": \"current Prime Minister of the UK\"\n",
      "}\n",
      "```\u001b[0m"
     ]
    },
    {
     "name": "stderr",
     "output_type": "stream",
     "text": [
      "/Users/sathishkumarchandran/anaconda3/lib/python3.11/site-packages/langchain_community/utilities/duckduckgo_search.py:64: UserWarning: backend='api' is deprecated, using backend='auto'\n",
      "  ddgs_gen = ddgs.text(\n"
     ]
    },
    {
     "name": "stdout",
     "output_type": "stream",
     "text": [
      "\n",
      "Observation: \u001b[36;1m\u001b[1;3mBritish Prime Minister Keir Starmer has appointed Rachel Reeves as UK chancellor, making her the first woman to take charge of the Treasury. Reeves said it was the \"honor of her life\" to be ... What to know about Keir Starmer, UK's new prime minister by Yash Roy - 07/06/24 10:42 AM ET. by Yash Roy - 07/06/24 10:42 AM ET. ... During his first speech as prime minister, he promised that ... Mr Starmer has been leader of the Labour party since 2020 and is the country's 58th prime minister. He was born in 1962. His dad was a toolmaker in a factory and his mum was a nurse in the NHS. Sir Keir Starmer became Prime Minister on 5 July 2024. Education Keir attended Reigate Grammar School, before studying Law at the University of Leeds. He went on to do postgraduate studies at the ... Prime Minister Sir Keir Starmer — the former lawyer was knighted for services to criminal justice — has, through years of chaos (you may remember Partygate, or perhaps even Prime Minister Liz ...\u001b[0m\n",
      "Thought:\u001b[32;1m\u001b[1;3mThe current Prime Minister of the UK is Sir Keir Starmer. He became Prime Minister on 5 July 2024. He has been the leader of the Labour party since 2020 and is the country's 58th prime minister. \n",
      "\n",
      "Action:\n",
      "```\n",
      "{\n",
      "  \"action\": \"Final Answer\",\n",
      "  \"action_input\": \"The current Prime Minister of the UK is Sir Keir Starmer. He became Prime Minister on 5 July 2024.\"\n",
      "}\n",
      "```\u001b[0m\n",
      "\n",
      "\u001b[1m> Finished chain.\u001b[0m\n",
      "\n",
      "\n",
      "\u001b[1m> Entering new AgentExecutor chain...\u001b[0m\n",
      "\u001b[32;1m\u001b[1;3mThought: To find out the current age of the Prime Minister, I need to know their birth date. I will search for Sir Keir Starmer's birth date.\n",
      "Action:\n",
      "```\n",
      "{\n",
      "  \"action\": \"Search\",\n",
      "  \"action_input\": \"Sir Keir Starmer birth date\"\n",
      "}\n",
      "```\u001b[0m"
     ]
    },
    {
     "name": "stderr",
     "output_type": "stream",
     "text": [
      "/Users/sathishkumarchandran/anaconda3/lib/python3.11/site-packages/langchain_community/utilities/duckduckgo_search.py:64: UserWarning: backend='api' is deprecated, using backend='auto'\n",
      "  ddgs_gen = ddgs.text(\n"
     ]
    },
    {
     "name": "stdout",
     "output_type": "stream",
     "text": [
      "\n",
      "Observation: \u001b[36;1m\u001b[1;3mFull name: Sir Keir Rodney Starmer Gender: Male Country: United Kingdom (58th Prime Minister) Terms: 1) In office since July 5, 2024. Preceded by: Rishi Sunak Political Party: Other Political Titles: Leader of the Opposition Date of Birth: September 2, 1962 Birth Place: London, England, United Kingdom In many ways, Sir Keir Starmer is not your typical politician. ... Date of birth: 2 September 1962. Family: Married to Victoria Alexander with two children . Education: ... Date of birth: 2 September 1962; ... Sir Keir didn't quit but the result did prompt a policy rethink and a reshuffle of his top team. ... Five things we learned about Sir Keir Starmer from Piers ... Sir Keir Starmer speaks as Prime Minister for the first time (Image: Ian Vogler / Daily Mirror). Sir Keir was born on September 2, 1962 to Rodney and Josephine. His parents, who were both Labour ... On this date in 1962, Keir Rodney Starmer, the first openly atheist British prime minister in history, was born in London to working-class parents, Josephine (Baker) a nurse, and Rodney Starmer, a toolmaker for injecting plastics. Starmer was politically active as a youth growing up in a small town in Surrey and joined the Labour Party Young Socialists at age 16.\u001b[0m\n",
      "Thought:\u001b[32;1m\u001b[1;3mSir Keir Starmer was born on September 2, 1962. To find out his current age, I need to calculate the difference between the current year and 1962. Action:\n",
      "```\n",
      "{\n",
      "  \"action\": \"Calculator\",\n",
      "  \"action_input\": \"2022 - 1962\"\n",
      "}\n",
      "```\u001b[0m\n",
      "\n",
      "\u001b[1m> Entering new LLMMathChain chain...\u001b[0m\n",
      "2022 - 1962\u001b[32;1m\u001b[1;3m```text\n",
      "2022 - 1962\n",
      "```\n",
      "...numexpr.evaluate(\"2022 - 1962\")...\n",
      "\u001b[0m\n",
      "Answer: \u001b[33;1m\u001b[1;3m60\u001b[0m\n",
      "\u001b[1m> Finished chain.\u001b[0m\n",
      "\n",
      "Observation: \u001b[33;1m\u001b[1;3mAnswer: 60\u001b[0m\n",
      "Thought:\u001b[32;1m\u001b[1;3mSir Keir Starmer is currently 60 years old. Now I can provide the final answer. \n",
      "Action:\n",
      "```\n",
      "{\n",
      "  \"action\": \"Final Answer\",\n",
      "  \"action_input\": \"The current Prime Minister of the UK, Sir Keir Starmer, is 60 years old.\"\n",
      "}\n",
      "```\u001b[0m\n",
      "\n",
      "\u001b[1m> Finished chain.\u001b[0m\n",
      "\n",
      "\n",
      "\u001b[1m> Entering new AgentExecutor chain...\u001b[0m\n",
      "\u001b[32;1m\u001b[1;3mThought: The current objective is to calculate the age of the Prime Minister of the UK, which is 60, raised to the power of 0.43. This is a mathematical operation, so I will use the Calculator tool.\n",
      "Action:\n",
      "```\n",
      "{\n",
      "  \"action\": \"Calculator\",\n",
      "  \"action_input\": \"60^0.43\"\n",
      "}\n",
      "```\u001b[0m\n",
      "\n",
      "\u001b[1m> Entering new LLMMathChain chain...\u001b[0m\n",
      "60^0.43\u001b[32;1m\u001b[1;3m```text\n",
      "60**0.43\n",
      "```\n",
      "...numexpr.evaluate(\"60**0.43\")...\n",
      "\u001b[0m\n",
      "Answer: \u001b[33;1m\u001b[1;3m5.8157407373640515\u001b[0m\n",
      "\u001b[1m> Finished chain.\u001b[0m\n",
      "\n",
      "Observation: \u001b[33;1m\u001b[1;3mAnswer: 5.8157407373640515\u001b[0m\n",
      "Thought:\u001b[32;1m\u001b[1;3mThe calculator tool has provided the result of 60 raised to the power of 0.43, which is approximately 5.82. I will round this to two decimal places for the final answer. \n",
      "Action:\n",
      "```\n",
      "{\n",
      "  \"action\": \"Final Answer\",\n",
      "  \"action_input\": \"The age of the Prime Minister of the UK, 60, raised to the power of 0.43 is approximately 5.82.\"\n",
      "}\n",
      "```\u001b[0m\n",
      "\n",
      "\u001b[1m> Finished chain.\u001b[0m\n",
      "\n",
      "\n",
      "\u001b[1m> Entering new AgentExecutor chain...\u001b[0m\n",
      "\u001b[32;1m\u001b[1;3mThought: The user's original question isn't explicitly stated in the provided steps. However, the steps involve finding out the current Prime Minister of the UK, determining their age, and then calculating the age raised to the power of 0.43. It seems the user might be interested in some information related to the current Prime Minister of the UK and a specific calculation involving their age. \n",
      "\n",
      "Action:\n",
      "```\n",
      "{\n",
      "  \"action\": \"Final Answer\",\n",
      "  \"action_input\": \"The current Prime Minister of the UK is Sir Keir Starmer, who is 60 years old. When his age is raised to the power of 0.43, the result is approximately 5.82.\"\n",
      "}\n",
      "```\u001b[0m\n",
      "\n",
      "\u001b[1m> Finished chain.\u001b[0m\n"
     ]
    },
    {
     "data": {
      "text/plain": [
       "'The current Prime Minister of the UK is Sir Keir Starmer, who is 60 years old. When his age is raised to the power of 0.43, the result is approximately 5.82.'"
      ]
     },
     "execution_count": 26,
     "metadata": {},
     "output_type": "execute_result"
    }
   ],
   "source": [
    "agent.run(\n",
    "    \"Who is the current prime minister of the UK? What is their current age raised to the 0.43 power?\"\n",
    ")"
   ]
  },
  {
   "cell_type": "code",
   "execution_count": null,
   "id": "472c8051-2b63-41ef-9d74-659df6c8a25e",
   "metadata": {},
   "outputs": [],
   "source": []
  }
 ],
 "metadata": {
  "kernelspec": {
   "display_name": "Python 3 (ipykernel)",
   "language": "python",
   "name": "python3"
  },
  "language_info": {
   "codemirror_mode": {
    "name": "ipython",
    "version": 3
   },
   "file_extension": ".py",
   "mimetype": "text/x-python",
   "name": "python",
   "nbconvert_exporter": "python",
   "pygments_lexer": "ipython3",
   "version": "3.11.5"
  }
 },
 "nbformat": 4,
 "nbformat_minor": 5
}
