{
 "cells": [
  {
   "cell_type": "markdown",
   "id": "adf3f0ad-fd32-4b17-bd31-9d0b8c746e70",
   "metadata": {},
   "source": [
    "# Use Case: AI-Powered Support Agent (Chained Execution)"
   ]
  },
  {
   "cell_type": "code",
   "execution_count": 1,
   "id": "6da127f7-3666-4cde-8a8a-90f8366d6b71",
   "metadata": {
    "tags": []
   },
   "outputs": [],
   "source": [
    "from langchain.chat_models import ChatOpenAI\n",
    "from langchain.agents import initialize_agent, AgentType\n",
    "from langchain.tools import Tool\n",
    "import getpass"
   ]
  },
  {
   "cell_type": "code",
   "execution_count": 2,
   "id": "d22bc260-6aab-4886-a97c-3536cbbd1903",
   "metadata": {
    "tags": []
   },
   "outputs": [
    {
     "name": "stdin",
     "output_type": "stream",
     "text": [
      "Openai Api Key ········\n"
     ]
    }
   ],
   "source": [
    "openai_api_key = getpass.getpass(prompt='Openai Api Key')"
   ]
  },
  {
   "cell_type": "code",
   "execution_count": null,
   "id": "e4a36273-522d-46b7-857c-a2a3ad3f03f3",
   "metadata": {},
   "outputs": [],
   "source": []
  },
  {
   "cell_type": "code",
   "execution_count": 3,
   "id": "249c948e-225f-4704-a50c-5eb243b6c19a",
   "metadata": {
    "tags": []
   },
   "outputs": [],
   "source": [
    "def rule_based_agent(query: str):\n",
    "    \"\"\"Handles predefined customer queries, else passes to the next agent.\"\"\"\n",
    "    rules = {\n",
    "        \"password reset\": \"To reset your password, click 'Forgot Password' on the login page.\",\n",
    "        \"refund policy\": \"Our refund policy allows returns within 30 days with a receipt.\",\n",
    "        \"cancel subscription\": \"To cancel, go to account settings and click 'Cancel Subscription'.\"\n",
    "    }\n",
    "    \n",
    "    for keyword, response in rules.items():\n",
    "        if keyword in query.lower():\n",
    "            return {\"status\": \"resolved\", \"response\": response}\n",
    "\n",
    "    return {\"status\": \"unresolved\", \"query\": query}  # Pass to next agent\n"
   ]
  },
  {
   "cell_type": "code",
   "execution_count": null,
   "id": "43abb6fa-965a-4323-abff-427b140e5dcc",
   "metadata": {},
   "outputs": [],
   "source": []
  },
  {
   "cell_type": "code",
   "execution_count": 5,
   "id": "9ae38ab2-9e11-43f4-8941-94ad199c2935",
   "metadata": {
    "tags": []
   },
   "outputs": [],
   "source": [
    "from langchain.chat_models import ChatOpenAI\n",
    "from langchain.schema import SystemMessage, HumanMessage\n",
    "\n",
    "llm = ChatOpenAI(model_name=\"gpt-4\", temperature=0.5, openai_api_key=openai_api_key)\n",
    "\n",
    "def sentiment_analysis_agent(input_data):\n",
    "    \"\"\"Analyzes sentiment of the query before sending to AI response agent.\"\"\"\n",
    "    if input_data[\"status\"] == \"resolved\":  # If rule-based agent handled it, return early\n",
    "        return input_data\n",
    "\n",
    "    query = input_data[\"query\"]\n",
    "    messages = [\n",
    "        SystemMessage(content=\"Classify the following text as Positive or Negative sentiment.\"),\n",
    "        HumanMessage(content=query)\n",
    "    ]\n",
    "    \n",
    "    sentiment = llm(messages).content.strip()  # Returns 'Positive' or 'Negative'\n",
    "    \n",
    "    return {\"status\": \"unresolved\", \"query\": query, \"sentiment\": sentiment}\n"
   ]
  },
  {
   "cell_type": "code",
   "execution_count": null,
   "id": "f98a0987-2d11-4660-b390-022630ebe23d",
   "metadata": {},
   "outputs": [],
   "source": []
  },
  {
   "cell_type": "code",
   "execution_count": 6,
   "id": "8a1469cf-623d-4441-b525-af79aa030e66",
   "metadata": {
    "tags": []
   },
   "outputs": [],
   "source": [
    "def ml_agent(input_data):\n",
    "    \"\"\"Uses GPT-4 for intelligent responses if the rule-based system couldn't resolve it.\"\"\"\n",
    "    if input_data[\"status\"] == \"resolved\":  # If already resolved, return early\n",
    "        return input_data\n",
    "\n",
    "    query = input_data[\"query\"]\n",
    "    sentiment = input_data.get(\"sentiment\", \"Neutral\")\n",
    "\n",
    "    messages = [\n",
    "        SystemMessage(content=f\"You are a customer support AI. The user sentiment is {sentiment}.\"),\n",
    "        HumanMessage(content=query)\n",
    "    ]\n",
    "    \n",
    "    response = llm(messages).content  # AI-generated response\n",
    "    \n",
    "    return {\"status\": \"resolved\", \"response\": response}\n"
   ]
  },
  {
   "cell_type": "code",
   "execution_count": null,
   "id": "0fab3936-3987-4791-8992-aa40ca4b7a2d",
   "metadata": {},
   "outputs": [],
   "source": []
  },
  {
   "cell_type": "code",
   "execution_count": 7,
   "id": "3d28be4e-bc17-4925-8efc-690d9f1ffa91",
   "metadata": {
    "tags": []
   },
   "outputs": [],
   "source": [
    "from langchain.tools import DuckDuckGoSearchRun\n",
    "\n",
    "search = DuckDuckGoSearchRun()\n",
    "\n",
    "def web_search_agent(input_data):\n",
    "    \"\"\"Searches the web if GPT-4 fails to generate an answer.\"\"\"\n",
    "    if input_data[\"status\"] == \"resolved\":\n",
    "        return input_data\n",
    "\n",
    "    query = input_data[\"query\"]\n",
    "    search_result = search.run(query)\n",
    "    \n",
    "    return {\"status\": \"resolved\", \"response\": f\"Here's what I found online: {search_result}\"}\n"
   ]
  },
  {
   "cell_type": "code",
   "execution_count": null,
   "id": "ea4c3b27-9907-4aef-80fc-39a57799df32",
   "metadata": {},
   "outputs": [],
   "source": []
  },
  {
   "cell_type": "code",
   "execution_count": 16,
   "id": "250b0f52-84bb-4a2e-9f59-a76ac505e561",
   "metadata": {
    "tags": []
   },
   "outputs": [],
   "source": [
    "def customer_support_pipeline(query):\n",
    "    \"\"\"Passes the query sequentially through all agents.\"\"\"\n",
    "    print(query)\n",
    "    # Step 1: Rule-Based Agent\n",
    "    step_1 = rule_based_agent(query)\n",
    "    print(\"Step1\")\n",
    "    print(step_1)\n",
    "    if step_1[\"status\"] == \"resolved\":\n",
    "        return step_1[\"response\"]\n",
    "\n",
    "    # Step 2: Sentiment Analysis\n",
    "    step_2 = sentiment_analysis_agent(step_1)\n",
    "    print(\"Step2\")\n",
    "    print(step_2)\n",
    "    # Step 3: LLM Agent (GPT-4)\n",
    "    step_3 = ml_agent(step_2)\n",
    "    print(\"Step3\")\n",
    "    print(step_3)\n",
    "    if step_3[\"status\"] == \"resolved\":\n",
    "        return step_3[\"response\"]\n",
    "\n",
    "    # Step 4: Web Search (Only if LLM fails)\n",
    "    step_4 = web_search_agent(step_3)\n",
    "    print(\"Step4\")\n",
    "    print(step_4)\n",
    "    return step_4[\"response\"]\n"
   ]
  },
  {
   "cell_type": "code",
   "execution_count": null,
   "id": "91dce7b4-ca0d-400d-bdf4-2c731188ac5c",
   "metadata": {},
   "outputs": [],
   "source": []
  },
  {
   "cell_type": "code",
   "execution_count": 19,
   "id": "b9622828-230f-4ec6-9051-fa7db14474ee",
   "metadata": {
    "tags": []
   },
   "outputs": [
    {
     "name": "stdout",
     "output_type": "stream",
     "text": [
      "password reset\n",
      "Step1\n",
      "{'status': 'resolved', 'response': \"To reset your password, click 'Forgot Password' on the login page.\"}\n",
      "\n",
      "Query 1: To reset your password, click 'Forgot Password' on the login page.\n"
     ]
    }
   ],
   "source": [
    "# Rule-based response\n",
    "print(\"\\nQuery 1:\", customer_support_pipeline(\"password reset\"))\n",
    "\n",
    "# # Sentiment Analysis + AI Response\n",
    "# print(\"\\nQuery 2:\", customer_support_pipeline(\"This service is awful! I need a refund now!\"))\n",
    "\n",
    "# # Complex Query (GPT-4)\n",
    "# print(\"\\nQuery 3:\", customer_support_pipeline(\"Tell me about the best features of your premium plan.\"))\n",
    "\n",
    "# # Unknown Query (Uses Web Search)\n",
    "# print(\"\\nQuery 4:\", customer_support_pipeline(\"What are the latest offers on your plans?\"))\n"
   ]
  },
  {
   "cell_type": "code",
   "execution_count": 20,
   "id": "8cbd08e5-90cb-47f9-a24b-e79086d93ec3",
   "metadata": {
    "tags": []
   },
   "outputs": [
    {
     "name": "stdout",
     "output_type": "stream",
     "text": [
      "This service is awful! I need a refund now!\n",
      "Step1\n",
      "{'status': 'unresolved', 'query': 'This service is awful! I need a refund now!'}\n",
      "Step2\n",
      "{'status': 'unresolved', 'query': 'This service is awful! I need a refund now!', 'sentiment': 'Negative'}\n",
      "Step3\n",
      "{'status': 'resolved', 'response': \"I'm really sorry to hear about your dissatisfaction with our service. It's our priority to ensure that our customers are happy and satisfied. I'll do my best to help you. Could you please provide me with your order number or any other details so I can look into the issue for you?\"}\n",
      "\n",
      "Query 2: I'm really sorry to hear about your dissatisfaction with our service. It's our priority to ensure that our customers are happy and satisfied. I'll do my best to help you. Could you please provide me with your order number or any other details so I can look into the issue for you?\n"
     ]
    }
   ],
   "source": [
    "# Sentiment Analysis + AI Response\n",
    "print(\"\\nQuery 2:\", customer_support_pipeline(\"This service is awful! I need a refund now!\"))"
   ]
  },
  {
   "cell_type": "code",
   "execution_count": null,
   "id": "0f8032be-d000-437b-96af-16b040df5b57",
   "metadata": {},
   "outputs": [],
   "source": []
  }
 ],
 "metadata": {
  "kernelspec": {
   "display_name": "Python 3 (ipykernel)",
   "language": "python",
   "name": "python3"
  },
  "language_info": {
   "codemirror_mode": {
    "name": "ipython",
    "version": 3
   },
   "file_extension": ".py",
   "mimetype": "text/x-python",
   "name": "python",
   "nbconvert_exporter": "python",
   "pygments_lexer": "ipython3",
   "version": "3.11.5"
  }
 },
 "nbformat": 4,
 "nbformat_minor": 5
}
