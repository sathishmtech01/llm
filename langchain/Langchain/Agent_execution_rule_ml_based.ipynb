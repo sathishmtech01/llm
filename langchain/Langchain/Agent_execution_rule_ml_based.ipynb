{
 "cells": [
  {
   "cell_type": "code",
   "execution_count": null,
   "id": "5eef8568-0ff8-4863-ada8-cc7bd903d465",
   "metadata": {},
   "outputs": [],
   "source": []
  },
  {
   "cell_type": "code",
   "execution_count": 3,
   "id": "18ec6e6e-f737-45ec-88ae-31e13b43b7c3",
   "metadata": {
    "tags": []
   },
   "outputs": [],
   "source": [
    "from langchain.chat_models import ChatOpenAI\n",
    "from langchain.agents import initialize_agent, AgentType\n",
    "from langchain.tools import Tool\n",
    "import getpass"
   ]
  },
  {
   "cell_type": "code",
   "execution_count": 4,
   "id": "d409280a-66b5-4a72-a615-2f8173f525bf",
   "metadata": {
    "tags": []
   },
   "outputs": [
    {
     "name": "stdin",
     "output_type": "stream",
     "text": [
      "Openai Api Key ········\n"
     ]
    }
   ],
   "source": [
    "openai_api_key = getpass.getpass(prompt='Openai Api Key')"
   ]
  },
  {
   "cell_type": "code",
   "execution_count": 10,
   "id": "f50ba886-96e9-46e2-b5a1-5bd6044c4108",
   "metadata": {
    "tags": []
   },
   "outputs": [],
   "source": [
    "from langchain.tools import tool\n",
    "\n",
    "@tool\n",
    "def rule_based_support(query: str) -> str:\n",
    "    \"\"\"Handles predefined customer support queries using rules.\"\"\"\n",
    "    rules = {\n",
    "        \"reset password\": \"To reset your password, click on 'Forgot Password' on the login page.\",\n",
    "        \"refund policy\": \"Our refund policy allows returns within 30 days with a receipt.\",\n",
    "        \"cancel subscription\": \"To cancel, go to your account settings and click 'Cancel Subscription'.\"\n",
    "    }\n",
    "    \n",
    "    for keyword, response in rules.items():\n",
    "        if keyword in query.lower():\n",
    "            return response\n",
    "\n",
    "    return \"I'm not sure about that. Let me transfer you to an expert.\"\n"
   ]
  },
  {
   "cell_type": "code",
   "execution_count": 15,
   "id": "eeb9ce5d-a8fe-40cf-b07b-e58313056f95",
   "metadata": {
    "tags": []
   },
   "outputs": [],
   "source": [
    "from langchain.chat_models import ChatOpenAI\n",
    "from langchain.schema import SystemMessage, HumanMessage\n",
    "\n",
    "llm = ChatOpenAI(model_name=\"gpt-4o\", temperature=0, openai_api_key=openai_api_key)\n",
    "\n",
    "def ml_agent_response(query: str) -> str:\n",
    "    \"\"\"Uses GPT-4 to generate responses for complex queries.\"\"\"\n",
    "    messages = [\n",
    "        SystemMessage(content=\"You are an AI support agent.\"),\n",
    "        HumanMessage(content=query)\n",
    "    ]\n",
    "    return llm(messages).content\n"
   ]
  },
  {
   "cell_type": "code",
   "execution_count": 19,
   "id": "702e61fa-ccbb-4d53-9bf9-3cabea98ca81",
   "metadata": {
    "tags": []
   },
   "outputs": [],
   "source": [
    "from langchain.agents import initialize_agent, AgentType\n",
    "from langchain.tools import Tool\n",
    "\n",
    "# Define tools for each agent\n",
    "tools = [\n",
    "    Tool(name=\"Rule-Based Support\", func=rule_based_support, description=\"Handles predefined support queries.\"),\n",
    "    Tool(name=\"ML Agent\", func=ml_agent_response, description=\"Handles complex queries using GPT-4.\")\n",
    "]\n",
    "\n",
    "# Initialize the agent\n",
    "customer_support_agent = initialize_agent(\n",
    "    tools=tools,\n",
    "    llm=llm,\n",
    "    agent=AgentType.ZERO_SHOT_REACT_DESCRIPTION,\n",
    "    verbose=True,\n",
    "    handle_parsing_errors=True\n",
    ")\n"
   ]
  },
  {
   "cell_type": "code",
   "execution_count": 20,
   "id": "85109190-fe23-465d-b03f-50eb4b5d12b2",
   "metadata": {
    "tags": []
   },
   "outputs": [
    {
     "name": "stdout",
     "output_type": "stream",
     "text": [
      "\n",
      "\n",
      "\u001b[1m> Entering new AgentExecutor chain...\u001b[0m\n",
      "\u001b[32;1m\u001b[1;3mThe question is about resetting a password, which is typically a predefined support query. \n",
      "Action: Rule-Based Support\n",
      "Action Input: reset password\u001b[0m\n",
      "Observation: \u001b[36;1m\u001b[1;3mTo reset your password, click on 'Forgot Password' on the login page.\u001b[0m\n",
      "Thought:\u001b[32;1m\u001b[1;3mI now know the final answer. \n",
      "\n",
      "Final Answer: To reset your password, click on 'Forgot Password' on the login page.\u001b[0m\n",
      "\n",
      "\u001b[1m> Finished chain.\u001b[0m\n",
      "Query 1: To reset your password, click on 'Forgot Password' on the login page.\n",
      "\n",
      "\n",
      "\u001b[1m> Entering new AgentExecutor chain...\u001b[0m\n",
      "\u001b[32;1m\u001b[1;3mTo determine the best way to answer this question, I need to consider whether it is a common support query or requires a more complex response. Resetting a password is typically a common support issue.\n",
      "\n",
      "Action: Rule-Based Support\n",
      "Action Input: \"How can I reset my password?\"\u001b[0m\n",
      "Observation: \u001b[36;1m\u001b[1;3mI'm not sure about that. Let me transfer you to an expert.\u001b[0m\n",
      "Thought:\u001b[32;1m\u001b[1;3mThe Rule-Based Support tool was unable to provide an answer, so I should use the ML Agent to handle this query.\n",
      "\n",
      "Action: ML Agent\n",
      "Action Input: \"How can I reset my password?\"\u001b[0m\n",
      "Observation: \u001b[33;1m\u001b[1;3mTo reset your password, follow these general steps. Keep in mind that the exact process may vary slightly depending on the service or platform you are using:\n",
      "\n",
      "1. **Visit the Login Page**: Go to the login page of the website or app where you need to reset your password.\n",
      "\n",
      "2. **Find the \"Forgot Password?\" Link**: Look for a link or button that says \"Forgot Password?\" or something similar. This is usually located near the password entry field.\n",
      "\n",
      "3. **Enter Your Email or Username**: You will typically be prompted to enter the email address or username associated with your account.\n",
      "\n",
      "4. **Check Your Email**: After submitting your email or username, check your email inbox for a password reset email. Make sure to also check your spam or junk folder if you don't see it in your inbox.\n",
      "\n",
      "5. **Follow the Instructions**: The email will usually contain a link to reset your password. Click on the link and follow the instructions provided.\n",
      "\n",
      "6. **Create a New Password**: Enter a new password when prompted. Make sure it is strong and secure, typically a mix of letters, numbers, and special characters.\n",
      "\n",
      "7. **Confirm the New Password**: You may need to enter the new password again to confirm it.\n",
      "\n",
      "8. **Log In**: Once your password has been reset, you should be able to log in with your new password.\n",
      "\n",
      "If you encounter any issues during this process, consider reaching out to the customer support team of the service for further assistance.\u001b[0m\n",
      "Thought:\u001b[32;1m\u001b[1;3mI now know the final answer.\n",
      "\n",
      "Final Answer: To reset your password, follow these general steps:\n",
      "\n",
      "1. Visit the login page of the website or app where you need to reset your password.\n",
      "2. Look for a \"Forgot Password?\" link near the password entry field.\n",
      "3. Enter the email address or username associated with your account.\n",
      "4. Check your email inbox for a password reset email, including your spam or junk folder.\n",
      "5. Click on the link in the email and follow the instructions provided.\n",
      "6. Create a new password, ensuring it is strong and secure.\n",
      "7. Confirm the new password if prompted.\n",
      "8. Log in with your new password.\n",
      "\n",
      "If you encounter any issues, contact the customer support team of the service for further assistance.\u001b[0m\n",
      "\n",
      "\u001b[1m> Finished chain.\u001b[0m\n",
      "Query 2: To reset your password, follow these general steps:\n",
      "\n",
      "1. Visit the login page of the website or app where you need to reset your password.\n",
      "2. Look for a \"Forgot Password?\" link near the password entry field.\n",
      "3. Enter the email address or username associated with your account.\n",
      "4. Check your email inbox for a password reset email, including your spam or junk folder.\n",
      "5. Click on the link in the email and follow the instructions provided.\n",
      "6. Create a new password, ensuring it is strong and secure.\n",
      "7. Confirm the new password if prompted.\n",
      "8. Log in with your new password.\n",
      "\n",
      "If you encounter any issues, contact the customer support team of the service for further assistance.\n"
     ]
    }
   ],
   "source": [
    "query_1 = \"reset password\"\n",
    "query_2 = \"How can I reset my password?\"\n",
    "\n",
    "print(\"Query 1:\", customer_support_agent.run(query_1))  # Rule-based response\n",
    "print(\"Query 2:\", customer_support_agent.run(query_2))  # ML-based response\n"
   ]
  },
  {
   "cell_type": "code",
   "execution_count": 21,
   "id": "47242d38-fa41-4700-bdee-16b68e2074db",
   "metadata": {
    "tags": []
   },
   "outputs": [
    {
     "name": "stdout",
     "output_type": "stream",
     "text": [
      "\n",
      "\n",
      "\u001b[1m> Entering new AgentExecutor chain...\u001b[0m\n",
      "\u001b[32;1m\u001b[1;3mTo answer this question, I need to determine if it falls under a predefined support query or if it requires a more complex response. Since the question is about the features of a premium plan, it might be covered by predefined support queries.\n",
      "\n",
      "Action: Rule-Based Support\n",
      "Action Input: \"What are the best features of your premium plan?\"\u001b[0m\n",
      "Observation: \u001b[36;1m\u001b[1;3mI'm not sure about that. Let me transfer you to an expert.\u001b[0m\n",
      "Thought:\u001b[32;1m\u001b[1;3mThe question about the best features of a premium plan was not covered by the predefined support queries, so I will need to use a more complex approach to provide an answer.\n",
      "\n",
      "Action: ML Agent\n",
      "Action Input: \"What are the best features of your premium plan?\"\u001b[0m\n",
      "Observation: \u001b[33;1m\u001b[1;3mTo provide you with the best information about a premium plan, I would need to know which service or product you are referring to. Premium plans can vary significantly across different platforms and services. Generally, premium plans might offer features such as:\n",
      "\n",
      "1. **Enhanced Support**: Priority customer service or dedicated support channels.\n",
      "2. **Increased Limits**: Higher usage limits, such as more storage, bandwidth, or access to additional resources.\n",
      "3. **Advanced Features**: Access to exclusive tools or functionalities not available in the free version.\n",
      "4. **Ad-Free Experience**: Removal of advertisements for a cleaner user experience.\n",
      "5. **Customization Options**: More options to personalize the service or product to better fit your needs.\n",
      "6. **Early Access**: Priority access to new features or beta programs.\n",
      "7. **Security Enhancements**: Additional security features like advanced encryption or multi-factor authentication.\n",
      "\n",
      "If you can specify the service or product, I can provide more tailored information.\u001b[0m\n",
      "Thought:\u001b[32;1m\u001b[1;3mI now know the final answer.\n",
      "\n",
      "Final Answer: The best features of a premium plan can vary depending on the service or product, but generally, they may include enhanced support, increased usage limits, advanced features, an ad-free experience, customization options, early access to new features, and security enhancements. If you specify the service or product, I can provide more detailed information.\u001b[0m\n",
      "\n",
      "\u001b[1m> Finished chain.\u001b[0m\n",
      "Query 1: The best features of a premium plan can vary depending on the service or product, but generally, they may include enhanced support, increased usage limits, advanced features, an ad-free experience, customization options, early access to new features, and security enhancements. If you specify the service or product, I can provide more detailed information.\n",
      "\n",
      "\n",
      "\u001b[1m> Entering new AgentExecutor chain...\u001b[0m\n",
      "\u001b[32;1m\u001b[1;3mTo answer this question, I need to determine if it falls under a predefined support query or if it requires a more complex response. Since the question is about the features of a premium plan, it might be covered by predefined support information.\n",
      "\n",
      "Action: Rule-Based Support\n",
      "Action Input: \"What are the best features of your premium plan?\"\u001b[0m\n",
      "Observation: \u001b[36;1m\u001b[1;3mI'm not sure about that. Let me transfer you to an expert.\u001b[0m\n",
      "Thought:\u001b[32;1m\u001b[1;3mThe question about the best features of a premium plan was not covered by the predefined support queries, so I need to handle it using a more complex approach.\n",
      "\n",
      "Action: ML Agent\n",
      "Action Input: \"What are the best features of your premium plan?\"\u001b[0m\n",
      "Observation: \u001b[33;1m\u001b[1;3mTo provide you with the best information about our premium plan, I would need to know which service or product you are referring to, as different companies and services offer various premium plans with distinct features. However, I can give you a general idea of what premium plans often include:\n",
      "\n",
      "1. **Enhanced Support**: Priority customer support with faster response times and access to dedicated support agents.\n",
      "\n",
      "2. **Advanced Features**: Access to exclusive tools and functionalities not available in the basic plan, such as advanced analytics, customization options, or additional integrations.\n",
      "\n",
      "3. **Increased Limits**: Higher usage limits, such as more storage space, increased bandwidth, or the ability to manage more users or projects.\n",
      "\n",
      "4. **Ad-Free Experience**: Removal of advertisements for a cleaner and more professional user experience.\n",
      "\n",
      "5. **Security Enhancements**: Additional security features like advanced encryption, two-factor authentication, or compliance with specific industry standards.\n",
      "\n",
      "6. **Customization and Branding**: Options to customize the service with your own branding, themes, or layouts.\n",
      "\n",
      "7. **Early Access**: Priority access to new features, updates, or beta programs.\n",
      "\n",
      "8. **Discounts and Offers**: Special pricing on other products or services, or discounts for long-term commitments.\n",
      "\n",
      "If you can specify the service or product you're interested in, I can provide more tailored information.\u001b[0m\n",
      "Thought:\u001b[32;1m\u001b[1;3mI now know the final answer.\n",
      "\n",
      "Final Answer: The best features of a premium plan can vary depending on the service or product, but generally include enhanced support, advanced features, increased limits, an ad-free experience, security enhancements, customization and branding options, early access to new features, and discounts or special offers. If you specify the service or product you're interested in, I can provide more tailored information.\u001b[0m\n",
      "\n",
      "\u001b[1m> Finished chain.\u001b[0m\n",
      "Query 2: The best features of a premium plan can vary depending on the service or product, but generally include enhanced support, advanced features, increased limits, an ad-free experience, security enhancements, customization and branding options, early access to new features, and discounts or special offers. If you specify the service or product you're interested in, I can provide more tailored information.\n"
     ]
    }
   ],
   "source": [
    "query_1 = \"What are the best features of your premium plan?\"\n",
    "query_2 = \"What are the best features of your premium plan?\"\n",
    "\n",
    "print(\"Query 1:\", customer_support_agent.run(query_1))  # Rule-based response\n",
    "print(\"Query 2:\", customer_support_agent.run(query_2))  # ML-based response\n"
   ]
  },
  {
   "cell_type": "code",
   "execution_count": null,
   "id": "6291661d-43db-4d9f-b0bb-ad222af48873",
   "metadata": {},
   "outputs": [],
   "source": []
  }
 ],
 "metadata": {
  "kernelspec": {
   "display_name": "Python 3 (ipykernel)",
   "language": "python",
   "name": "python3"
  },
  "language_info": {
   "codemirror_mode": {
    "name": "ipython",
    "version": 3
   },
   "file_extension": ".py",
   "mimetype": "text/x-python",
   "name": "python",
   "nbconvert_exporter": "python",
   "pygments_lexer": "ipython3",
   "version": "3.11.5"
  }
 },
 "nbformat": 4,
 "nbformat_minor": 5
}
