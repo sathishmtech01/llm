{
 "cells": [
  {
   "cell_type": "code",
   "execution_count": null,
   "id": "bc0e3203-e9af-4fcd-9bed-a912642c03ce",
   "metadata": {},
   "outputs": [],
   "source": [
    "# Langchain/graph/smith\n",
    "## - https://python.langchain.com/v0.1/docs/integrations/chat/groq/\n",
    "## - https://python.langchain.com/docs/tutorials/agents/"
   ]
  },
  {
   "cell_type": "code",
   "execution_count": 22,
   "id": "57c19d38-e82e-45a7-bd8e-a5a819c16766",
   "metadata": {
    "tags": []
   },
   "outputs": [],
   "source": [
    "# !pip install langchain-groq\n",
    "# !pip install langchain-anthropic\n",
    "# !pip install langchain-community\n",
    "# !pip install langgraph\n",
    "# %pip install -U langchain-community langgraph langchain-anthropic tavily-python langgraph-checkpoint-sqlite"
   ]
  },
  {
   "cell_type": "code",
   "execution_count": null,
   "id": "123c6d5b-a029-499a-bce3-4dcdecd16e2b",
   "metadata": {},
   "outputs": [],
   "source": [
    "# Tavily Api key"
   ]
  },
  {
   "cell_type": "code",
   "execution_count": 14,
   "id": "cb15535f-f8ab-49c4-8411-38307616f2a4",
   "metadata": {
    "tags": []
   },
   "outputs": [],
   "source": [
    "import getpass\n",
    "import os\n",
    "\n",
    "if not os.environ.get(\"TAVILY_API_KEY\"):\n",
    "    os.environ[\"TAVILY_API_KEY\"] = getpass.getpass(\"Tavily API key:\\n\")"
   ]
  },
  {
   "cell_type": "code",
   "execution_count": null,
   "id": "d931d5c9-44e7-42c9-8c84-7ea8a11e13a7",
   "metadata": {},
   "outputs": [],
   "source": [
    "# groq Api Key"
   ]
  },
  {
   "cell_type": "code",
   "execution_count": 19,
   "id": "e7bbcd49-c7c1-4d1b-b294-89902826f4f1",
   "metadata": {
    "tags": []
   },
   "outputs": [
    {
     "name": "stdin",
     "output_type": "stream",
     "text": [
      "Groq Api Key ········\n"
     ]
    }
   ],
   "source": [
    "groq_api_key = getpass.getpass(prompt='Groq Api Key')"
   ]
  },
  {
   "cell_type": "code",
   "execution_count": 23,
   "id": "0c7a62d1-ba5d-4282-87e4-559d78379760",
   "metadata": {
    "tags": []
   },
   "outputs": [],
   "source": [
    "# langchain api key"
   ]
  },
  {
   "cell_type": "code",
   "execution_count": 24,
   "id": "fca5434a-1fdf-4944-8dc4-c4654e04b1b1",
   "metadata": {
    "tags": []
   },
   "outputs": [
    {
     "name": "stdin",
     "output_type": "stream",
     "text": [
      " ········\n"
     ]
    }
   ],
   "source": [
    "import getpass\n",
    "import os\n",
    "\n",
    "os.environ[\"LANGCHAIN_TRACING_V2\"] = \"true\"\n",
    "os.environ[\"LANGCHAIN_API_KEY\"] = getpass.getpass()"
   ]
  },
  {
   "cell_type": "code",
   "execution_count": null,
   "id": "aee65fec-576b-4bda-a773-2cc5703c6db0",
   "metadata": {},
   "outputs": [],
   "source": [
    "# Import relevant functionality\n",
    "from langchain_anthropic import ChatAnthropic\n",
    "from langchain_groq import ChatGroq\n",
    "from langchain_community.tools.tavily_search import TavilySearchResults\n",
    "from langchain_core.messages import HumanMessage\n",
    "from langgraph.checkpoint.memory import MemorySaver\n",
    "from langgraph.prebuilt import create_react_agent"
   ]
  },
  {
   "cell_type": "code",
   "execution_count": 20,
   "id": "f1a4a73a-54e5-4c77-bcc4-7e7bfcf452d8",
   "metadata": {
    "tags": []
   },
   "outputs": [
    {
     "name": "stdout",
     "output_type": "stream",
     "text": [
      "{'agent': {'messages': [AIMessage(content=\"Hello Bob! It's nice to meet you. San Francisco is a great city with a lot to offer. If you have any questions about San Francisco or anything else, feel free to ask!\\n\\n(No tools were used to generate this response.)\", additional_kwargs={}, response_metadata={'token_usage': {'completion_tokens': 53, 'prompt_tokens': 1215, 'total_tokens': 1268, 'completion_time': 0.082913784, 'prompt_time': 0.073527673, 'queue_time': 0.017733869, 'total_time': 0.156441457}, 'model_name': 'mixtral-8x7b-32768', 'system_fingerprint': 'fp_c5f20b5bb1', 'finish_reason': 'stop', 'logprobs': None}, id='run-eb04ea28-2579-48e0-ba5e-437555770c42-0', usage_metadata={'input_tokens': 1215, 'output_tokens': 53, 'total_tokens': 1268})]}}\n",
      "----\n",
      "{'agent': {'messages': [AIMessage(content=\"The weather in San Francisco today is typically mild, with temperatures ranging from the mid 50s to the mid 60s Fahrenheit. It's currently a bit cloudy, but it should clear up later in the day. Of course, the weather can change quickly, so it's always a good idea to check a reliable weather forecast before heading out.\\n\\n(No tools were used to generate this response. I determined the weather based on my knowledge of San Francisco's typical climate.)\", additional_kwargs={}, response_metadata={'token_usage': {'completion_tokens': 106, 'prompt_tokens': 1283, 'total_tokens': 1389, 'completion_time': 0.168784061, 'prompt_time': 0.068555647, 'queue_time': 0.018230012000000004, 'total_time': 0.237339708}, 'model_name': 'mixtral-8x7b-32768', 'system_fingerprint': 'fp_c5f20b5bb1', 'finish_reason': 'stop', 'logprobs': None}, id='run-8b0c94a0-652e-4470-a407-befdf2ae7f02-0', usage_metadata={'input_tokens': 1283, 'output_tokens': 106, 'total_tokens': 1389})]}}\n",
      "----\n"
     ]
    }
   ],
   "source": [
    "# Create the agent\n",
    "memory = MemorySaver()\n",
    "model = ChatGroq(temperature=0, groq_api_key=groq_api_key, model_name=\"mixtral-8x7b-32768\")\n",
    "search = TavilySearchResults(max_results=2)\n",
    "tools = [search]\n",
    "agent_executor = create_react_agent(model, tools, checkpointer=memory)\n",
    "\n",
    "# Use the agent\n",
    "config = {\"configurable\": {\"thread_id\": \"abc123\"}}\n",
    "for chunk in agent_executor.stream(\n",
    "    {\"messages\": [HumanMessage(content=\"hi im bob! and i live in sf\")]}, config\n",
    "):\n",
    "    print(chunk)\n",
    "    print(\"----\")\n",
    "\n",
    "for chunk in agent_executor.stream(\n",
    "    {\"messages\": [HumanMessage(content=\"whats the weather where I live?\")]}, config\n",
    "):\n",
    "    print(chunk)\n",
    "    print(\"----\")"
   ]
  },
  {
   "cell_type": "code",
   "execution_count": 52,
   "id": "841cc8d2-f60c-4acc-be94-7374d6c601db",
   "metadata": {},
   "outputs": [
    {
     "name": "stdout",
     "output_type": "stream",
     "text": [
      "[{'url': 'https://www.weatherapi.com/', 'content': \"{'location': {'name': 'San Francisco', 'region': 'California', 'country': 'United States of America', 'lat': 37.775, 'lon': -122.4183, 'tz_id': 'America/Los_Angeles', 'localtime_epoch': 1735383146, 'localtime': '2024-12-28 02:52'}, 'current': {'last_updated_epoch': 1735382700, 'last_updated': '2024-12-28 02:45', 'temp_c': 13.9, 'temp_f': 57.0, 'is_day': 0, 'condition': {'text': 'Overcast', 'icon': '//cdn.weatherapi.com/weather/64x64/night/122.png', 'code': 1009}, 'wind_mph': 4.9, 'wind_kph': 7.9, 'wind_degree': 187, 'wind_dir': 'S', 'pressure_mb': 1021.0, 'pressure_in': 30.14, 'precip_mm': 0.0, 'precip_in': 0.0, 'humidity': 89, 'cloud': 100, 'feelslike_c': 13.6, 'feelslike_f': 56.5, 'windchill_c': 10.5, 'windchill_f': 50.9, 'heatindex_c': 11.6, 'heatindex_f': 53.0, 'dewpoint_c': 11.2, 'dewpoint_f': 52.2, 'vis_km': 16.0, 'vis_miles': 9.0, 'uv': 0.0, 'gust_mph': 7.6, 'gust_kph': 12.2}}\"}, {'url': 'https://www.peoplesweather.com/weather/San+Francisco/?date=2024-12-28', 'content': 'Weather for San Francisco | People°s Weather Home Weather News MyPhoto Competitions Contact Us Home Weather Forecast News & Highlights MyPhoto Competitions Contact Us Get the weather for Johannesburg Weather for San Francisco Weather United States San Francisco Saturday 28 December 2024 14°C12°C10%Cloud Cover: 100%SSW / 9km/hLight BreezeChance of Rain Morning14°COvercast. Cool Afternoon14°COvercast. Cool Night14°COvercast. Cool 6 Day Forecast for San Francisco Weather Detailed Forecast SA National Parks iSimangaliso Popular Submit your Photo Contact us Careers News Room Newsletter Subscribe Now Terms of Use Privacy Sitemap © 2007-2024 People°s Weather Pty. Ltd., All rights reserved.'}]\n"
     ]
    }
   ],
   "source": [
    "# define tools\n",
    "from langchain_community.tools.tavily_search import TavilySearchResults\n",
    "\n",
    "search = TavilySearchResults(max_results=2)\n",
    "search_results = search.invoke(\"what is the weather in SF\")\n",
    "print(search_results)\n",
    "# If we want, we can create other tools.\n",
    "# Once we have all the tools we want, we can put them in a list that we will reference later.\n",
    "tools = [search]"
   ]
  },
  {
   "cell_type": "code",
   "execution_count": 53,
   "id": "333df24b-f81f-4919-8a7f-bce9cf81ac9b",
   "metadata": {
    "tags": []
   },
   "outputs": [
    {
     "data": {
      "text/plain": [
       "\"Hi! It's nice to meet you. Is there something I can help you with or would you like to chat?\""
      ]
     },
     "execution_count": 53,
     "metadata": {},
     "output_type": "execute_result"
    }
   ],
   "source": [
    "from langchain_core.messages import HumanMessage\n",
    "model = ChatGroq(groq_api_key=groq_api_key,model=\"llama3-8b-8192\")\n",
    "response = model.invoke([HumanMessage(content=\"hi!\")])\n",
    "response.content"
   ]
  },
  {
   "cell_type": "code",
   "execution_count": 54,
   "id": "db1a0047-d002-4dad-9375-e6b9b82786d8",
   "metadata": {
    "tags": []
   },
   "outputs": [
    {
     "data": {
      "text/plain": [
       "RunnableBinding(bound=ChatGroq(client=<groq.resources.chat.completions.Completions object at 0x12399a1d0>, async_client=<groq.resources.chat.completions.AsyncCompletions object at 0x12352aa10>, model_name='llama3-8b-8192', model_kwargs={}, groq_api_key=SecretStr('**********')), kwargs={'tools': [{'type': 'function', 'function': {'name': 'tavily_search_results_json', 'description': 'A search engine optimized for comprehensive, accurate, and trusted results. Useful for when you need to answer questions about current events. Input should be a search query.', 'parameters': {'properties': {'query': {'description': 'search query to look up', 'type': 'string'}}, 'required': ['query'], 'type': 'object'}}}]}, config={}, config_factories=[])"
      ]
     },
     "execution_count": 54,
     "metadata": {},
     "output_type": "execute_result"
    }
   ],
   "source": [
    "model_with_tools = model.bind_tools(tools)\n",
    "model_with_tools"
   ]
  },
  {
   "cell_type": "code",
   "execution_count": 55,
   "id": "022afba4-53b8-4b65-b76d-8d07bffac8c8",
   "metadata": {
    "tags": []
   },
   "outputs": [
    {
     "name": "stdout",
     "output_type": "stream",
     "text": [
      "ContentString: \n",
      "ToolCalls: [{'name': 'tavily_search_results_json', 'args': {'query': 'Hi'}, 'id': 'call_q8me', 'type': 'tool_call'}]\n"
     ]
    }
   ],
   "source": [
    "response = model_with_tools.invoke([HumanMessage(content=\"Hi!\")])\n",
    "\n",
    "print(f\"ContentString: {response.content}\")\n",
    "print(f\"ToolCalls: {response.tool_calls}\")"
   ]
  },
  {
   "cell_type": "code",
   "execution_count": null,
   "id": "f5274bab-9959-4e44-9f42-e0e3891567b1",
   "metadata": {
    "tags": []
   },
   "outputs": [],
   "source": [
    "response = model_with_tools.invoke([HumanMessage(content=\"weather\")])\n",
    "\n",
    "print(f\"ContentString: {response.content}\")\n",
    "print(f\"ToolCalls: {response.tool_calls}\")"
   ]
  },
  {
   "cell_type": "code",
   "execution_count": null,
   "id": "d7d3034b-2f30-4359-b60a-86b1f016a318",
   "metadata": {
    "tags": []
   },
   "outputs": [],
   "source": [
    "response = model_with_tools.invoke([HumanMessage(content=\"Provide weather information for Bangalore, ensuring all required parameters for the weather API are correct.\")])\n",
    "\n",
    "print(f\"ContentString: {response.content}\")\n",
    "print(f\"ToolCalls: {response.tool_calls}\")"
   ]
  },
  {
   "cell_type": "code",
   "execution_count": null,
   "id": "b39ce872-58e4-4cc6-826f-a10af2439709",
   "metadata": {
    "tags": []
   },
   "outputs": [],
   "source": [
    "# Create agent"
   ]
  },
  {
   "cell_type": "code",
   "execution_count": 58,
   "id": "4db580eb-28ca-4e93-81de-4a5a634eab78",
   "metadata": {
    "tags": []
   },
   "outputs": [],
   "source": [
    "from langgraph.prebuilt import create_react_agent\n",
    "\n",
    "agent_executor = create_react_agent(model, tools)"
   ]
  },
  {
   "cell_type": "code",
   "execution_count": 59,
   "id": "167a614d-af14-41a9-86c5-a422910687ab",
   "metadata": {
    "tags": []
   },
   "outputs": [
    {
     "data": {
      "text/plain": [
       "[HumanMessage(content='hi!', additional_kwargs={}, response_metadata={}, id='73471ef4-748b-44bb-a1ef-b9209ed6f983'),\n",
       " AIMessage(content='', additional_kwargs={'tool_calls': [{'id': 'call_3q2m', 'function': {'arguments': '{\"query\":\"hi\"}', 'name': 'tavily_search_results_json'}, 'type': 'function'}]}, response_metadata={'token_usage': {'completion_tokens': 77, 'prompt_tokens': 941, 'total_tokens': 1018, 'completion_time': 0.064166667, 'prompt_time': 0.1310648, 'queue_time': 0.021447349000000004, 'total_time': 0.195231467}, 'model_name': 'llama3-8b-8192', 'system_fingerprint': 'fp_a97cfe35ae', 'finish_reason': 'tool_calls', 'logprobs': None}, id='run-fda70539-c0c6-4663-847b-7d4c8803ac5b-0', tool_calls=[{'name': 'tavily_search_results_json', 'args': {'query': 'hi'}, 'id': 'call_3q2m', 'type': 'tool_call'}], usage_metadata={'input_tokens': 941, 'output_tokens': 77, 'total_tokens': 1018}),\n",
       " ToolMessage(content='[{\"url\": \"https://dictionary.cambridge.org/dictionary/english/hi\", \"content\": \"HI | English meaning - Cambridge Dictionary Meaning of hi in English hi Hi, there! Hi, how are you doing? HI (Definition of hi from the Cambridge Advanced Learner\\'s Dictionary & Thesaurus © Cambridge University Press) hi | American Dictionary hi Hi, how are you doing? (Definition of hi from the Cambridge Academic Content Dictionary © Cambridge University Press) What is the pronunciation of hi? Translations of hi hi More meanings of hi Free word lists and quizzes from Cambridge Word lists shared by our community of dictionary fans English–Arabic English–Bengali English–Catalan English–Czech English–Danish English–Gujarati English–Hindi English–Korean English–Malay English–Marathi English–Russian English–Tamil English–Telugu English–Thai English–Turkish English–Ukrainian English–Urdu English–Vietnamese To add hi to a word list please sign up or log in.\"}, {\"url\": \"https://www.yourdictionary.com/hi\", \"content\": \"Hi Definition & Meaning | YourDictionary Dictionary Sign in Word Finder Dictionary Word Finder Dictionary Dictionary Thesaurus Sentences Articles Word Finder Grammar and writing tips Terms and Conditions and Privacy Policy. Dictionary Meanings Hi Definition Hi Definition Origin Interjection Abbreviation Adjective Hi, how are you? High. Get hi-quality videos here! Next, set the burner to hi. \\\\\"Hi\\\\\" or similar greeting. Origin of Hi Hi Sentence Examples Hi guys, what\\'s up? Hi, how are you? Just calling to uh, say hi, I guess. Hi buddy, I miss you too. Examples of Gibberish: Words and Sentences List of All 50 US State Abbreviations Words Near Hi in the Dictionary hi Learn a new word now! Dictionary Privacy Policy Learn a new word now!\"}]', name='tavily_search_results_json', id='9416ff8c-967c-469f-bfdf-22ac37c7d506', tool_call_id='call_3q2m', artifact={'query': 'hi', 'follow_up_questions': None, 'answer': None, 'images': [], 'results': [{'title': 'HI | English meaning - Cambridge Dictionary', 'url': 'https://dictionary.cambridge.org/dictionary/english/hi', 'content': \"HI | English meaning - Cambridge Dictionary Meaning of hi in English hi Hi, there! Hi, how are you doing? HI (Definition of hi from the Cambridge Advanced Learner's Dictionary & Thesaurus © Cambridge University Press) hi | American Dictionary hi Hi, how are you doing? (Definition of hi from the Cambridge Academic Content Dictionary © Cambridge University Press) What is the pronunciation of hi? Translations of hi hi More meanings of hi Free word lists and quizzes from Cambridge Word lists shared by our community of dictionary fans English–Arabic English–Bengali English–Catalan English–Czech English–Danish English–Gujarati English–Hindi English–Korean English–Malay English–Marathi English–Russian English–Tamil English–Telugu English–Thai English–Turkish English–Ukrainian English–Urdu English–Vietnamese To add hi to a word list please sign up or log in.\", 'score': 0.7092009, 'raw_content': None}, {'title': 'Hi Definition & Meaning - YourDictionary', 'url': 'https://www.yourdictionary.com/hi', 'content': 'Hi Definition & Meaning | YourDictionary Dictionary Sign in Word Finder Dictionary Word Finder Dictionary Dictionary Thesaurus Sentences Articles Word Finder Grammar and writing tips Terms and Conditions and Privacy Policy. Dictionary Meanings Hi Definition Hi Definition Origin Interjection Abbreviation Adjective Hi, how are you? High. Get hi-quality videos here! Next, set the burner to hi. \"Hi\" or similar greeting. Origin of Hi Hi Sentence Examples Hi guys, what\\'s up? Hi, how are you? Just calling to uh, say hi, I guess. Hi buddy, I miss you too. Examples of Gibberish: Words and Sentences List of All 50 US State Abbreviations Words Near Hi in the Dictionary hi Learn a new word now! Dictionary Privacy Policy Learn a new word now!', 'score': 0.68344116, 'raw_content': None}], 'response_time': 1.75}),\n",
       " AIMessage(content='I see you\\'re interested in learning more about the word \"hi\". Based on the results from the tool, it seems like \"hi\" is a common greeting used in informal settings, and it can also mean \"high\" in some contexts. I\\'m happy to provide some additional information about the word. Would you like me to summarize the results or answer any specific questions you may have?', additional_kwargs={}, response_metadata={'token_usage': {'completion_tokens': 79, 'prompt_tokens': 1406, 'total_tokens': 1485, 'completion_time': 0.065833333, 'prompt_time': 0.17511169, 'queue_time': 0.020941740000000014, 'total_time': 0.240945023}, 'model_name': 'llama3-8b-8192', 'system_fingerprint': 'fp_179b0f92c9', 'finish_reason': 'stop', 'logprobs': None}, id='run-9ec65bdd-7760-4061-ab7c-e632486e43cd-0', usage_metadata={'input_tokens': 1406, 'output_tokens': 79, 'total_tokens': 1485})]"
      ]
     },
     "execution_count": 59,
     "metadata": {},
     "output_type": "execute_result"
    }
   ],
   "source": [
    "response = agent_executor.invoke({\"messages\": [HumanMessage(content=\"hi!\")]})\n",
    "\n",
    "response[\"messages\"]"
   ]
  },
  {
   "cell_type": "code",
   "execution_count": null,
   "id": "63a09c43-fc78-4023-b6df-222b6e2c1e7a",
   "metadata": {
    "tags": []
   },
   "outputs": [],
   "source": [
    "response = agent_executor.invoke(\n",
    "    {\"messages\": [HumanMessage(content=\"whats the weather in sf?\")]}\n",
    ")\n",
    "response[\"messages\"]"
   ]
  },
  {
   "cell_type": "code",
   "execution_count": null,
   "id": "a8d16e65-cef3-4386-b46c-b5b2dd62ee06",
   "metadata": {
    "tags": []
   },
   "outputs": [],
   "source": [
    "for chunk in agent_executor.stream(\n",
    "    {\"messages\": [HumanMessage(content=\"whats the weather in sf?\")]}\n",
    "):\n",
    "    print(chunk)\n",
    "    print(\"----\")"
   ]
  },
  {
   "cell_type": "code",
   "execution_count": null,
   "id": "3b65f54d-2d89-4fd0-8ee4-993701ab4c6a",
   "metadata": {
    "tags": []
   },
   "outputs": [],
   "source": [
    "async for event in agent_executor.astream_events(\n",
    "    {\"messages\": [HumanMessage(content=\"whats the weather in sf?\")]}, version=\"v1\"\n",
    "):\n",
    "    kind = event[\"event\"]\n",
    "    if kind == \"on_chain_start\":\n",
    "        if (\n",
    "            event[\"name\"] == \"Agent\"\n",
    "        ):  # Was assigned when creating the agent with `.with_config({\"run_name\": \"Agent\"})`\n",
    "            print(\n",
    "                f\"Starting agent: {event['name']} with input: {event['data'].get('input')}\"\n",
    "            )\n",
    "    elif kind == \"on_chain_end\":\n",
    "        if (\n",
    "            event[\"name\"] == \"Agent\"\n",
    "        ):  # Was assigned when creating the agent with `.with_config({\"run_name\": \"Agent\"})`\n",
    "            print()\n",
    "            print(\"--\")\n",
    "            print(\n",
    "                f\"Done agent: {event['name']} with output: {event['data'].get('output')['output']}\"\n",
    "            )\n",
    "    if kind == \"on_chat_model_stream\":\n",
    "        content = event[\"data\"][\"chunk\"].content\n",
    "        if content:\n",
    "            # Empty content in the context of OpenAI means\n",
    "            # that the model is asking for a tool to be invoked.\n",
    "            # So we only print non-empty content\n",
    "            print(content, end=\"|\")\n",
    "    elif kind == \"on_tool_start\":\n",
    "        print(\"--\")\n",
    "        print(\n",
    "            f\"Starting tool: {event['name']} with inputs: {event['data'].get('input')}\"\n",
    "        )\n",
    "    elif kind == \"on_tool_end\":\n",
    "        print(f\"Done tool: {event['name']}\")\n",
    "        print(f\"Tool output was: {event['data'].get('output')}\")\n",
    "        print(\"--\")"
   ]
  },
  {
   "cell_type": "code",
   "execution_count": 63,
   "id": "e01a5684-c6d3-4ab5-80b6-2730e07c2a46",
   "metadata": {
    "tags": []
   },
   "outputs": [],
   "source": [
    "# adding memory\n",
    "from langgraph.checkpoint.memory import MemorySaver\n",
    "\n",
    "memory = MemorySaver()"
   ]
  },
  {
   "cell_type": "code",
   "execution_count": 64,
   "id": "8ccbeaec-7cb5-4a61-b23a-450f7fc8f023",
   "metadata": {
    "tags": []
   },
   "outputs": [],
   "source": [
    "agent_executor = create_react_agent(model, tools, checkpointer=memory)\n",
    "\n",
    "config = {\"configurable\": {\"thread_id\": \"abc123\"}}"
   ]
  },
  {
   "cell_type": "code",
   "execution_count": 65,
   "id": "b0eb6b20-bed5-4191-97a3-b72171ce52dd",
   "metadata": {
    "tags": []
   },
   "outputs": [
    {
     "name": "stdout",
     "output_type": "stream",
     "text": [
      "{'agent': {'messages': [AIMessage(content='Hi Bob!', additional_kwargs={}, response_metadata={'token_usage': {'completion_tokens': 4, 'prompt_tokens': 1906, 'total_tokens': 1910, 'completion_time': 0.003333333, 'prompt_time': 0.235239738, 'queue_time': -0.29129517, 'total_time': 0.238573071}, 'model_name': 'llama3-8b-8192', 'system_fingerprint': 'fp_6a6771ae9c', 'finish_reason': 'stop', 'logprobs': None}, id='run-a9da6623-a701-4750-8cc7-6e3ef52191eb-0', usage_metadata={'input_tokens': 1906, 'output_tokens': 4, 'total_tokens': 1910})]}}\n",
      "----\n"
     ]
    }
   ],
   "source": [
    "for chunk in agent_executor.stream(\n",
    "    {\"messages\": [HumanMessage(content=\"hi im bob!\")]}, config\n",
    "):\n",
    "    print(chunk)\n",
    "    print(\"----\")"
   ]
  },
  {
   "cell_type": "code",
   "execution_count": 66,
   "id": "f3ea26ae-c0f0-4153-901c-7870e3bd7713",
   "metadata": {
    "tags": []
   },
   "outputs": [
    {
     "name": "stdout",
     "output_type": "stream",
     "text": [
      "{'agent': {'messages': [AIMessage(content='Hi Bob!', additional_kwargs={}, response_metadata={'token_usage': {'completion_tokens': 4, 'prompt_tokens': 960, 'total_tokens': 964, 'completion_time': 0.003333333, 'prompt_time': 0.119509664, 'queue_time': 0.020652443000000006, 'total_time': 0.122842997}, 'model_name': 'llama3-8b-8192', 'system_fingerprint': 'fp_179b0f92c9', 'finish_reason': 'stop', 'logprobs': None}, id='run-59858a53-3fc0-4d04-8749-2bd45872ca47-0', usage_metadata={'input_tokens': 960, 'output_tokens': 4, 'total_tokens': 964})]}}\n",
      "----\n"
     ]
    }
   ],
   "source": [
    "for chunk in agent_executor.stream(\n",
    "    {\"messages\": [HumanMessage(content=\"hi im bob!\")]}, config\n",
    "):\n",
    "    print(chunk)\n",
    "    print(\"----\")"
   ]
  },
  {
   "cell_type": "code",
   "execution_count": 67,
   "id": "2f1b34c9-b341-4350-bf81-d3167265c353",
   "metadata": {
    "tags": []
   },
   "outputs": [
    {
     "name": "stdout",
     "output_type": "stream",
     "text": [
      "{'agent': {'messages': [AIMessage(content=\"I'm not sure what your name is.\", additional_kwargs={}, response_metadata={'token_usage': {'completion_tokens': 10, 'prompt_tokens': 1909, 'total_tokens': 1919, 'completion_time': 0.008333333, 'prompt_time': 0.34269442, 'queue_time': -0.407184249, 'total_time': 0.351027753}, 'model_name': 'llama3-8b-8192', 'system_fingerprint': 'fp_a97cfe35ae', 'finish_reason': 'stop', 'logprobs': None}, id='run-68504310-c7ed-4d89-99b3-c7b8779c6f5b-0', usage_metadata={'input_tokens': 1909, 'output_tokens': 10, 'total_tokens': 1919})]}}\n",
      "----\n"
     ]
    }
   ],
   "source": [
    "config = {\"configurable\": {\"thread_id\": \"xyz123\"}}\n",
    "for chunk in agent_executor.stream(\n",
    "    {\"messages\": [HumanMessage(content=\"whats my name?\")]}, config\n",
    "):\n",
    "    print(chunk)\n",
    "    print(\"----\")"
   ]
  },
  {
   "cell_type": "code",
   "execution_count": null,
   "id": "76d725de-f4fa-4451-a5f3-4d18d2650c95",
   "metadata": {},
   "outputs": [],
   "source": []
  }
 ],
 "metadata": {
  "kernelspec": {
   "display_name": "Python 3 (ipykernel)",
   "language": "python",
   "name": "python3"
  },
  "language_info": {
   "codemirror_mode": {
    "name": "ipython",
    "version": 3
   },
   "file_extension": ".py",
   "mimetype": "text/x-python",
   "name": "python",
   "nbconvert_exporter": "python",
   "pygments_lexer": "ipython3",
   "version": "3.11.5"
  }
 },
 "nbformat": 4,
 "nbformat_minor": 5
}
