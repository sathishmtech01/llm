{
 "cells": [
  {
   "cell_type": "code",
   "execution_count": null,
   "id": "388b30f9-44fc-4730-bf3d-d78161266d27",
   "metadata": {},
   "outputs": [],
   "source": []
  },
  {
   "cell_type": "code",
   "execution_count": null,
   "id": "9f6895d4-82e4-4788-ae6e-a3e28473cd1d",
   "metadata": {
    "tags": []
   },
   "outputs": [],
   "source": [
    "from langchain.chat_models import ChatOpenAI\n",
    "from langchain.agents import initialize_agent, AgentType\n",
    "from langchain.tools import Tool\n",
    "import getpass"
   ]
  },
  {
   "cell_type": "code",
   "execution_count": null,
   "id": "5ecc0872-3acc-4767-ab8a-b78202e40ad8",
   "metadata": {
    "tags": []
   },
   "outputs": [],
   "source": [
    "openai_api_key = getpass.getpass(prompt='Openai Api Key')"
   ]
  },
  {
   "cell_type": "markdown",
   "id": "00b5c158-97e5-4d63-b330-e06475710d41",
   "metadata": {},
   "source": [
    "## 1. Zero-Shot ReAct Agent (ZERO_SHOT_REACT_DESCRIPTION)"
   ]
  },
  {
   "cell_type": "code",
   "execution_count": 12,
   "id": "38e3b55e-5c6e-4377-a1d0-71a2581c8121",
   "metadata": {
    "tags": []
   },
   "outputs": [
    {
     "name": "stderr",
     "output_type": "stream",
     "text": [
      "/var/folders/cf/1n82cp8j5477wf_t828mwrlh0000gn/T/ipykernel_1557/836188319.py:14: LangChainDeprecationWarning: LangChain agents will continue to be supported, but it is recommended for new use cases to be built with LangGraph. LangGraph offers a more flexible and full-featured framework for building agents, including support for tool-calling, persistence of state, and human-in-the-loop workflows. For details, refer to the `LangGraph documentation <https://langchain-ai.github.io/langgraph/>`_ as well as guides for `Migrating from AgentExecutor <https://python.langchain.com/docs/how_to/migrate_agent/>`_ and LangGraph's `Pre-built ReAct agent <https://langchain-ai.github.io/langgraph/how-tos/create-react-agent/>`_.\n",
      "  agent = initialize_agent(\n",
      "/var/folders/cf/1n82cp8j5477wf_t828mwrlh0000gn/T/ipykernel_1557/836188319.py:22: LangChainDeprecationWarning: The method `Chain.run` was deprecated in langchain 0.1.0 and will be removed in 1.0. Use :meth:`~invoke` instead.\n",
      "  response = agent.run(\"What are the three laws of motion?\")\n"
     ]
    },
    {
     "name": "stdout",
     "output_type": "stream",
     "text": [
      "\n",
      "\n",
      "\u001b[1m> Entering new AgentExecutor chain...\u001b[0m\n",
      "\u001b[32;1m\u001b[1;3mThe three laws of motion are fundamental principles formulated by Sir Isaac Newton. I can provide these directly without using any tools.\n",
      "\n",
      "Final Answer: The three laws of motion, formulated by Sir Isaac Newton, are:\n",
      "\n",
      "1. **First Law (Law of Inertia):** An object at rest stays at rest, and an object in motion stays in motion with the same speed and in the same direction unless acted upon by an unbalanced external force.\n",
      "\n",
      "2. **Second Law (Law of Acceleration):** The acceleration of an object is directly proportional to the net force acting on it and inversely proportional to its mass. This is often expressed with the formula \\( F = ma \\), where \\( F \\) is the net force applied to the object, \\( m \\) is the mass of the object, and \\( a \\) is the acceleration produced.\n",
      "\n",
      "3. **Third Law (Action and Reaction):** For every action, there is an equal and opposite reaction. This means that forces always occur in pairs; if object A exerts a force on object B, then object B exerts an equal and opposite force on object A.\u001b[0m\n",
      "\n",
      "\u001b[1m> Finished chain.\u001b[0m\n",
      "The three laws of motion, formulated by Sir Isaac Newton, are:\n",
      "\n",
      "1. **First Law (Law of Inertia):** An object at rest stays at rest, and an object in motion stays in motion with the same speed and in the same direction unless acted upon by an unbalanced external force.\n",
      "\n",
      "2. **Second Law (Law of Acceleration):** The acceleration of an object is directly proportional to the net force acting on it and inversely proportional to its mass. This is often expressed with the formula \\( F = ma \\), where \\( F \\) is the net force applied to the object, \\( m \\) is the mass of the object, and \\( a \\) is the acceleration produced.\n",
      "\n",
      "3. **Third Law (Action and Reaction):** For every action, there is an equal and opposite reaction. This means that forces always occur in pairs; if object A exerts a force on object B, then object B exerts an equal and opposite force on object A.\n"
     ]
    }
   ],
   "source": [
    "# Define a simple tool\n",
    "def echo_tool(query):\n",
    "    return f\"You asked: {query}\"\n",
    "\n",
    "dummy_tool = Tool(\n",
    "    name=\"EchoTool\",\n",
    "    func=echo_tool,\n",
    "    description=\"Repeats whatever input is given.\"\n",
    ")\n",
    "# Initialize OpenAI model\n",
    "llm = ChatOpenAI(model=\"gpt-4o\", temperature=0, openai_api_key=openai_api_key)\n",
    "\n",
    "# Create the Zero-Shot ReAct Agent (no tools, just reasoning)\n",
    "agent = initialize_agent(\n",
    "    tools=[dummy_tool],  \n",
    "    llm=llm,\n",
    "    agent=AgentType.ZERO_SHOT_REACT_DESCRIPTION,\n",
    "    verbose=True\n",
    ")\n",
    "\n",
    "# Run the agent\n",
    "response = agent.run(\"What are the three laws of motion?\")\n",
    "print(response)\n"
   ]
  },
  {
   "cell_type": "markdown",
   "id": "65a3b5ce-db0c-489b-8395-bb15312e891e",
   "metadata": {},
   "source": [
    "## 2. OpenAI Functions Agent (OPENAI_FUNCTIONS)"
   ]
  },
  {
   "cell_type": "code",
   "execution_count": 13,
   "id": "2a3ca6cf-8fa8-4718-9e4e-0111f930c16b",
   "metadata": {
    "tags": []
   },
   "outputs": [
    {
     "name": "stdout",
     "output_type": "stream",
     "text": [
      "\n",
      "\n",
      "\u001b[1m> Entering new AgentExecutor chain...\u001b[0m\n",
      "\u001b[32;1m\u001b[1;3m\n",
      "Invoking: `GetCurrentTime` with `now`\n",
      "\n",
      "\n",
      "\u001b[0margument  now\n",
      "\u001b[36;1m\u001b[1;3mThe current time is 2025-02-08 22:48:17\u001b[0m\u001b[32;1m\u001b[1;3mThe current time is 22:48 on February 8, 2025.\u001b[0m\n",
      "\n",
      "\u001b[1m> Finished chain.\u001b[0m\n",
      "The current time is 22:48 on February 8, 2025.\n"
     ]
    }
   ],
   "source": [
    "# Define a simple tool\n",
    "def get_current_time(*args):\n",
    "    for arg in args:\n",
    "        print(\"argument \",arg)\n",
    "    from datetime import datetime\n",
    "    return f\"The current time is {datetime.now().strftime('%Y-%m-%d %H:%M:%S')}\"\n",
    "\n",
    "time_tool = Tool(\n",
    "    name=\"GetCurrentTime\",\n",
    "    func=get_current_time,\n",
    "    description=\"Returns the current time.\"\n",
    ")\n",
    "\n",
    "# Initialize LLM\n",
    "llm = ChatOpenAI(model=\"gpt-4\", temperature=0, openai_api_key=openai_api_key)\n",
    "\n",
    "# Create an OpenAI Functions Agent with the tool\n",
    "agent = initialize_agent(\n",
    "    tools=[time_tool],\n",
    "    llm=llm,\n",
    "    agent=AgentType.OPENAI_FUNCTIONS,\n",
    "    verbose=True\n",
    ")\n",
    "\n",
    "# Run the agent\n",
    "response = agent.run(\"What time is it?\")\n",
    "print(response)"
   ]
  },
  {
   "cell_type": "markdown",
   "id": "327810a0-41dc-4f5e-8a4f-6a2053b85cad",
   "metadata": {},
   "source": [
    "## 3. ReAct Agent (STRUCTURED_CHAT_ZERO_SHOT_REACT_DESCRIPTION)"
   ]
  },
  {
   "cell_type": "code",
   "execution_count": 14,
   "id": "88c41be1-b495-4f9d-8d39-39d7d7f66ecf",
   "metadata": {
    "tags": []
   },
   "outputs": [
    {
     "name": "stdout",
     "output_type": "stream",
     "text": [
      "\n",
      "\n",
      "\u001b[1m> Entering new AgentExecutor chain...\u001b[0m\n",
      "\u001b[32;1m\u001b[1;3mThought: I need to search Wikipedia for information on quantum mechanics.\n",
      "Action:\n",
      "```\n",
      "{\n",
      "  \"action\": \"WikipediaSearch\",\n",
      "  \"action_input\": {\n",
      "    \"query\": \"Quantum mechanics\"\n",
      "  }\n",
      "}\n",
      "```\u001b[0m\n",
      "Observation: \u001b[36;1m\u001b[1;3mSimulated Wikipedia search results for: Quantum mechanics\u001b[0m\n",
      "Thought:\u001b[32;1m\u001b[1;3mThe assistant should review the information provided by the Wikipedia search results on quantum mechanics. Based on the information, the assistant should then formulate a concise and informative response. Since the observation is not provided in this scenario, I'll assume the assistant has obtained a general overview of quantum mechanics from Wikipedia. \n",
      "\n",
      "Thought: Quantum mechanics is a fundamental theory in physics that provides a description of the physical properties of nature at the scale of atoms and subatomic particles. It is the foundation of all quantum physics including quantum chemistry, quantum field theory, quantum technology, and quantum information science.\n",
      "\n",
      "Action:\n",
      "```\n",
      "{\n",
      "  \"action\": \"Final Answer\",\n",
      "  \"action_input\": \"Quantum mechanics is a fundamental theory in physics that provides a description of the physical properties of nature at the scale of atoms and subatomic particles. It is the foundation of all quantum physics including quantum chemistry, quantum field theory, quantum technology, and quantum information science.\"\n",
      "}\n",
      "```\u001b[0m\n",
      "\n",
      "\u001b[1m> Finished chain.\u001b[0m\n",
      "Quantum mechanics is a fundamental theory in physics that provides a description of the physical properties of nature at the scale of atoms and subatomic particles. It is the foundation of all quantum physics including quantum chemistry, quantum field theory, quantum technology, and quantum information science.\n"
     ]
    }
   ],
   "source": [
    "# Define a tool\n",
    "from langchain.tools import StructuredTool\n",
    "from pydantic import BaseModel\n",
    "\n",
    "# Define input schema\n",
    "class WikiInput(BaseModel):\n",
    "    query: str\n",
    "\n",
    "# Define Wikipedia search function\n",
    "def search_wikipedia(query: str):\n",
    "    return f\"Simulated Wikipedia search results for: {query}\"\n",
    "\n",
    "# Convert function to a StructuredTool\n",
    "wiki_tool = StructuredTool.from_function(\n",
    "    func=search_wikipedia,\n",
    "    name=\"WikipediaSearch\",\n",
    "    description=\"Searches Wikipedia for a given query.\",\n",
    "    args_schema=WikiInput,  # ✅ Enforces structured input\n",
    ")\n",
    "\n",
    "# Initialize LLM\n",
    "llm = ChatOpenAI(model=\"gpt-4\", temperature=0, openai_api_key=openai_api_key)\n",
    "\n",
    "# Create a structured ReAct agent\n",
    "agent = initialize_agent(\n",
    "    tools=[wiki_tool],\n",
    "    llm=llm,\n",
    "    agent=AgentType.STRUCTURED_CHAT_ZERO_SHOT_REACT_DESCRIPTION,\n",
    "    verbose=True\n",
    ")\n",
    "\n",
    "# Run the agent\n",
    "response = agent.run(\"Tell me about quantum mechanics using Wikipedia.\")\n",
    "print(response)"
   ]
  },
  {
   "cell_type": "markdown",
   "id": "99114194-d018-48ba-ba9c-69b2bdeb81d2",
   "metadata": {},
   "source": [
    "## 4. Conversational Agent (CONVERSATIONAL_REACT_DESCRIPTION)"
   ]
  },
  {
   "cell_type": "code",
   "execution_count": 15,
   "id": "d4d77ad2-a189-401b-a8b8-af5bce2b2e83",
   "metadata": {
    "tags": []
   },
   "outputs": [
    {
     "name": "stdout",
     "output_type": "stream",
     "text": [
      "\n",
      "\n",
      "\u001b[1m> Entering new AgentExecutor chain...\u001b[0m\n"
     ]
    },
    {
     "name": "stderr",
     "output_type": "stream",
     "text": [
      "/var/folders/cf/1n82cp8j5477wf_t828mwrlh0000gn/T/ipykernel_1557/2918377461.py:5: LangChainDeprecationWarning: Please see the migration guide at: https://python.langchain.com/docs/versions/migrating_memory/\n",
      "  memory = ConversationBufferMemory(memory_key=\"chat_history\")\n"
     ]
    },
    {
     "name": "stdout",
     "output_type": "stream",
     "text": [
      "\u001b[32;1m\u001b[1;3mThought: Do I need to use a tool? No\n",
      "AI: Albert Einstein was a renowned theoretical physicist who is best known for his theory of relativity, one of the two pillars of modern physics (the other being quantum mechanics). He was born in Germany in 1879 and later became a Swiss citizen. His work revolutionized our understanding of the basic laws of the universe.\n",
      "\n",
      "Einstein's most famous equation, E=mc^2, demonstrates the equivalence of energy (E) and mass (m), with \"c\" being the speed of light in a vacuum. This equation has profound implications for the understanding of energy and matter.\n",
      "\n",
      "In 1921, Einstein was awarded the Nobel Prize in Physics for his explanation of the photoelectric effect, which demonstrated the particle-like properties of light. This work was a foundational part of the development of quantum mechanics.\n",
      "\n",
      "Einstein was also known for his passionate commitment to pacifism, civil rights, education, and Zionism. He passed away in 1955 in Princeton, New Jersey, USA.\u001b[0m\n",
      "\n",
      "\u001b[1m> Finished chain.\u001b[0m\n",
      "Albert Einstein was a renowned theoretical physicist who is best known for his theory of relativity, one of the two pillars of modern physics (the other being quantum mechanics). He was born in Germany in 1879 and later became a Swiss citizen. His work revolutionized our understanding of the basic laws of the universe.\n",
      "\n",
      "Einstein's most famous equation, E=mc^2, demonstrates the equivalence of energy (E) and mass (m), with \"c\" being the speed of light in a vacuum. This equation has profound implications for the understanding of energy and matter.\n",
      "\n",
      "In 1921, Einstein was awarded the Nobel Prize in Physics for his explanation of the photoelectric effect, which demonstrated the particle-like properties of light. This work was a foundational part of the development of quantum mechanics.\n",
      "\n",
      "Einstein was also known for his passionate commitment to pacifism, civil rights, education, and Zionism. He passed away in 1955 in Princeton, New Jersey, USA.\n",
      "\n",
      "\n",
      "\u001b[1m> Entering new AgentExecutor chain...\u001b[0m\n",
      "\u001b[32;1m\u001b[1;3mThought: Do I need to use a tool? No\n",
      "AI: Albert Einstein's biggest contribution to physics is arguably his theory of relativity, which includes the special theory of relativity and the general theory of relativity.\n",
      "\n",
      "The special theory of relativity, published in 1905, introduced the concept that the laws of physics are the same for all non-accelerating observers, and that the speed of light in a vacuum is the same no matter the speed at which the observer is travelling. This theory led to the famous equation E=mc^2, which states that energy (E) is equivalent to mass (m) times the speed of light (c) squared, showing the interconvertibility of mass and energy.\n",
      "\n",
      "The general theory of relativity, published in 1915, is a theory of gravitation that replaced Newton's law of universal gravitation. It describes gravity not as a force, but as a consequence of the curvature of spacetime caused by mass and energy. This theory has been confirmed by many experiments and observations, and has had far-reaching implications for our understanding of the universe, including the prediction of black holes and the expansion of the universe.\n",
      "\n",
      "These theories revolutionized our understanding of the fundamental laws of the universe and have had a profound impact on a wide range of scientific fields.\u001b[0m\n",
      "\n",
      "\u001b[1m> Finished chain.\u001b[0m\n",
      "Albert Einstein's biggest contribution to physics is arguably his theory of relativity, which includes the special theory of relativity and the general theory of relativity.\n",
      "\n",
      "The special theory of relativity, published in 1905, introduced the concept that the laws of physics are the same for all non-accelerating observers, and that the speed of light in a vacuum is the same no matter the speed at which the observer is travelling. This theory led to the famous equation E=mc^2, which states that energy (E) is equivalent to mass (m) times the speed of light (c) squared, showing the interconvertibility of mass and energy.\n",
      "\n",
      "The general theory of relativity, published in 1915, is a theory of gravitation that replaced Newton's law of universal gravitation. It describes gravity not as a force, but as a consequence of the curvature of spacetime caused by mass and energy. This theory has been confirmed by many experiments and observations, and has had far-reaching implications for our understanding of the universe, including the prediction of black holes and the expansion of the universe.\n",
      "\n",
      "These theories revolutionized our understanding of the fundamental laws of the universe and have had a profound impact on a wide range of scientific fields.\n"
     ]
    }
   ],
   "source": [
    "from langchain.chat_models import ChatOpenAI\n",
    "from langchain.agents import initialize_agent, AgentType\n",
    "from langchain.memory import ConversationBufferMemory\n",
    "# Initialize memory\n",
    "memory = ConversationBufferMemory(memory_key=\"chat_history\")\n",
    "\n",
    "# Initialize LLM\n",
    "llm = ChatOpenAI(model=\"gpt-4\", temperature=0, openai_api_key=openai_api_key)\n",
    "\n",
    "# Create a conversational agent\n",
    "agent = initialize_agent(\n",
    "    tools=[],\n",
    "    llm=llm,\n",
    "    agent=AgentType.CONVERSATIONAL_REACT_DESCRIPTION,\n",
    "    memory=memory,\n",
    "    verbose=True,\n",
    "    handle_parsing_errors=True\n",
    ")\n",
    "\n",
    "# Run multiple queries to see memory in action\n",
    "response1 = agent.run(\"Who was Albert Einstein?\")\n",
    "print(response1)\n",
    "\n",
    "response2 = agent.run(\"What was his biggest contribution to physics?\")\n",
    "print(response2)"
   ]
  },
  {
   "cell_type": "markdown",
   "id": "ab0c8c47-6163-425b-b8b2-4e8043ce4ed5",
   "metadata": {},
   "source": [
    "## 5. Self-Querying Agent (SELF_ASK_WITH_SEARCH)"
   ]
  },
  {
   "cell_type": "code",
   "execution_count": null,
   "id": "3cbbe85f-699a-46c0-991b-b7b8cac990f6",
   "metadata": {
    "tags": []
   },
   "outputs": [],
   "source": [
    "from langchain.chat_models import ChatOpenAI\n",
    "from langchain.agents import initialize_agent, AgentType\n",
    "from langchain.tools import Tool\n",
    "\n",
    "# ✅ Simulated Search Function (Replace with API calls if needed)\n",
    "def google_search(query: str):\n",
    "    search_results = {\n",
    "        \"latest breakthroughs in quantum computing\": \n",
    "            \"IBM's 127-qubit Eagle processor, Google's quantum supremacy, and new quantum algorithms.\",\n",
    "        \"top AI companies in 2024\": \n",
    "            \"OpenAI, Google DeepMind, Anthropic, and Meta AI are leading AI research.\",\n",
    "        \"climate change solutions\": \n",
    "            \"Renewable energy, carbon capture, and afforestation are key solutions.\"\n",
    "    }\n",
    "    return search_results.get(query.lower(), \"No relevant search results found.\")\n",
    "\n",
    "# ✅ Define the Tool (Must be named \"Intermediate Answer\")\n",
    "search_tool = Tool(\n",
    "    name=\"Intermediate Answer\",  # REQUIRED for SELF_ASK_WITH_SEARCH\n",
    "    func=google_search,\n",
    "    description=\"Searches the web for the most relevant and recent information.\"\n",
    ")\n",
    "\n",
    "# ✅ Initialize OpenAI LLM\n",
    "llm = ChatOpenAI(model=\"gpt-4\", temperature=0, openai_api_key=openai_api_key,system_message=\"Always provide detailed responses in full sentences. Never respond with just 'Yes' or 'No'.\")\n",
    "\n",
    "# ✅ Create the Self-Querying Agent\n",
    "agent = initialize_agent(\n",
    "    tools=[search_tool],  # Tool MUST be named \"Intermediate Answer\"\n",
    "    llm=llm,\n",
    "    agent=AgentType.SELF_ASK_WITH_SEARCH,\n",
    "    verbose=True,\n",
    "    handle_parsing_errors=True\n",
    ")\n",
    "\n",
    "# ✅ Run the agent with a complex query\n",
    "query = \"What are the latest breakthroughs in quantum computing?\"\n",
    "response = agent.run(query)\n",
    "\n",
    "# ✅ Print the response\n",
    "print(\"\\n🧠 AI Response:\", response)\n"
   ]
  },
  {
   "cell_type": "markdown",
   "id": "fa39e2fb-544c-445a-80b6-b4d651b2c85d",
   "metadata": {},
   "source": [
    "## 6. Plan-and-Execute Agent (PLAN_AND_EXECUTE)"
   ]
  },
  {
   "cell_type": "code",
   "execution_count": null,
   "id": "24058196-1166-4c6f-8bc6-3a1d7c9b066d",
   "metadata": {
    "tags": []
   },
   "outputs": [],
   "source": [
    "from langchain.chat_models import ChatOpenAI\n",
    "from langchain.tools import Tool\n",
    "from langchain_experimental.plan_and_execute import PlanAndExecute, load_agent_executor\n",
    "from langchain_experimental.plan_and_execute.planners import chat_planner\n",
    "from langchain_experimental.plan_and_execute.executors import agent_executor\n",
    "# ✅ Simulated search function\n",
    "def google_search(query: str):\n",
    "    search_results = {\n",
    "        \"latest breakthroughs in AI\": \"OpenAI's GPT-5 research, DeepMind's AlphaFold updates, and advances in multimodal AI.\",\n",
    "        \"top space discoveries in 2024\": \"NASA's James Webb discoveries, exoplanets, and new black hole theories.\",\n",
    "    }\n",
    "    return search_results.get(query.lower(), \"No relevant search results found. Try checking NASA or OpenAI websites.\")\n",
    "\n",
    "# ✅ Define a search tool\n",
    "search_tool = Tool(\n",
    "    name=\"GoogleSearch\",\n",
    "    func=google_search,\n",
    "    description=\"Search for the latest scientific and technological advancements.\"\n",
    ")\n",
    "\n",
    "# ✅ Initialize OpenAI LLM\n",
    "llm = ChatOpenAI(model=\"gpt-4\", temperature=0, openai_api_key=openai_api_key)\n",
    "\n",
    "# ✅ Correct Planner & Executor setup for LangChain 0.3.18\n",
    "planner = chat_planner(llm=llm)  # Replaces `ChatPlanner`\n",
    "executor = agent_executor(llm=llm, tools=[search_tool])  # Replaces `AgentExecutor`\n",
    "\n",
    "# ✅ Create Plan-and-Execute Agent\n",
    "agent = PlanAndExecute(planner=planner, executor=executor, verbose=True)\n",
    "\n",
    "# ✅ Run the agent with a complex query\n",
    "query = \"Find the latest breakthroughs in AI and summarize them.\"\n",
    "response = agent.run(query)\n",
    "\n",
    "# ✅ Print the response\n",
    "print(\"\\n🧠 AI Response:\", response)"
   ]
  },
  {
   "cell_type": "code",
   "execution_count": null,
   "id": "9a5cdca7-8e52-4fda-a72c-ea310af7aeff",
   "metadata": {},
   "outputs": [],
   "source": []
  }
 ],
 "metadata": {
  "kernelspec": {
   "display_name": "Python 3 (ipykernel)",
   "language": "python",
   "name": "python3"
  },
  "language_info": {
   "codemirror_mode": {
    "name": "ipython",
    "version": 3
   },
   "file_extension": ".py",
   "mimetype": "text/x-python",
   "name": "python",
   "nbconvert_exporter": "python",
   "pygments_lexer": "ipython3",
   "version": "3.11.5"
  }
 },
 "nbformat": 4,
 "nbformat_minor": 5
}
