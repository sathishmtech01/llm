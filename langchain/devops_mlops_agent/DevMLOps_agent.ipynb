{
 "cells": [
  {
   "cell_type": "code",
   "execution_count": 6,
   "id": "813b8b7c-a734-4163-83a8-ac0b5f5cde66",
   "metadata": {
    "tags": []
   },
   "outputs": [
    {
     "name": "stdin",
     "output_type": "stream",
     "text": [
      "Openai Api Key ········\n"
     ]
    }
   ],
   "source": [
    "from openai import OpenAI\n",
    "\n",
    "import os\n",
    "from dotenv import load_dotenv\n",
    "import openai\n",
    "load_dotenv()\n",
    "import getpass\n",
    "openai_api_key = getpass.getpass(prompt='Openai Api Key') \n",
    "client = OpenAI(api_key=openai_api_key)"
   ]
  },
  {
   "cell_type": "code",
   "execution_count": null,
   "id": "0109eb8d-81a1-4534-884b-0207dab8e512",
   "metadata": {
    "tags": []
   },
   "outputs": [],
   "source": []
  },
  {
   "cell_type": "code",
   "execution_count": 27,
   "id": "ebb62d62-ee4b-4c14-907a-00beb0785f5c",
   "metadata": {
    "tags": []
   },
   "outputs": [
    {
     "name": "stdout",
     "output_type": "stream",
     "text": [
      "ChatCompletion(id='chatcmpl-BLqkenUlXasqwcAQoZt78pNiH11ce', choices=[Choice(finish_reason='stop', index=0, logprobs=None, message=ChatCompletionMessage(content=\"1. **Summary:**\\n   - The log entry indicates a failure in establishing a connection to a database (db01) for the user 'admin'. This suggests that an attempt to access the database was unsuccessful.\\n\\n2. **Possible Root Cause:**\\n   - There could be several reasons for the connection failure:\\n     - Incorrect credentials: The username or password for the 'admin' user might be incorrect.\\n     - Network issues: There could be a problem with the network connectivity between the application and the database server.\\n     - Database server issues: The database server (db01) might be down or not accepting connections due to maintenance, overload, or configuration errors.\\n     - Firewall or security settings: Firewall rules or security settings might be blocking the connection attempt.\\n     - User permissions: The 'admin' user might not have the necessary permissions to connect to db01.\\n\\n3. **Recommended Action:**\\n   - Verify the credentials: Double-check the username and password being used for the connection.\\n   - Check network connectivity: Ensure that the network connection between the application and db01 is stable and that there are no interruptions.\\n   - Inspect the database server: Verify that db01 is running and accepting connections. Check for any alerts or logs on the database server that might indicate issues.\\n   - Review firewall and security settings: Ensure that there are no firewall rules or security settings blocking the connection.\\n   - Confirm user permissions: Ensure that the 'admin' user has the appropriate permissions to connect to the database.\\n   - Consult database logs: Review the database logs for any additional error messages or clues that could help diagnose the issue.\\n   - If the issue persists, consider restarting the database server or contacting the database administrator for further assistance.\", refusal=None, role='assistant', audio=None, function_call=None, tool_calls=None, annotations=[]))], created=1744547364, model='gpt-4o-2024-08-06', object='chat.completion', service_tier='default', system_fingerprint='fp_92f14e8683', usage=CompletionUsage(completion_tokens=349, prompt_tokens=54, total_tokens=403, completion_tokens_details=CompletionTokensDetails(accepted_prediction_tokens=0, audio_tokens=0, reasoning_tokens=0, rejected_prediction_tokens=0), prompt_tokens_details=PromptTokensDetails(audio_tokens=0, cached_tokens=0)))\n"
     ]
    }
   ],
   "source": [
    "log_entry = \"DB connection failed for user admin on db01\"\n",
    "prompt = prompt = f\"\"\"\n",
    "    Analyze the following log entry and give:\n",
    "    1. Summary\n",
    "    2. Possible root cause\n",
    "    3. Recommended action\n",
    "\n",
    "    Log Entry:\n",
    "    {log_entry}\n",
    "    \"\"\"\n",
    "response = client.chat.completions.create(\n",
    "    model=\"gpt-4o\",\n",
    "    messages=[{\"role\": \"user\", \"content\": prompt}],\n",
    "        temperature=0.5\n",
    ")\n",
    "\n",
    "print(response)"
   ]
  },
  {
   "cell_type": "code",
   "execution_count": 28,
   "id": "c1b3a6fa-2b6c-4efd-a424-69ac8becf73c",
   "metadata": {
    "tags": []
   },
   "outputs": [
    {
     "data": {
      "text/plain": [
       "\"1. **Summary:**\\n   - The log entry indicates a failure in establishing a connection to a database (db01) for the user 'admin'. This suggests that an attempt to access the database was unsuccessful.\\n\\n2. **Possible Root Cause:**\\n   - There could be several reasons for the connection failure:\\n     - Incorrect credentials: The username or password for the 'admin' user might be incorrect.\\n     - Network issues: There could be a problem with the network connectivity between the application and the database server.\\n     - Database server issues: The database server (db01) might be down or not accepting connections due to maintenance, overload, or configuration errors.\\n     - Firewall or security settings: Firewall rules or security settings might be blocking the connection attempt.\\n     - User permissions: The 'admin' user might not have the necessary permissions to connect to db01.\\n\\n3. **Recommended Action:**\\n   - Verify the credentials: Double-check the username and password being used for the connection.\\n   - Check network connectivity: Ensure that the network connection between the application and db01 is stable and that there are no interruptions.\\n   - Inspect the database server: Verify that db01 is running and accepting connections. Check for any alerts or logs on the database server that might indicate issues.\\n   - Review firewall and security settings: Ensure that there are no firewall rules or security settings blocking the connection.\\n   - Confirm user permissions: Ensure that the 'admin' user has the appropriate permissions to connect to the database.\\n   - Consult database logs: Review the database logs for any additional error messages or clues that could help diagnose the issue.\\n   - If the issue persists, consider restarting the database server or contacting the database administrator for further assistance.\""
      ]
     },
     "execution_count": 28,
     "metadata": {},
     "output_type": "execute_result"
    }
   ],
   "source": [
    "response_dict = response.model_dump()    # <--- convert to dictionary\n",
    "response_message = response_dict[\"choices\"][0][\"message\"][\"content\"]\n",
    "response_message"
   ]
  },
  {
   "cell_type": "code",
   "execution_count": 25,
   "id": "67044387-f544-4037-9752-101f3ef6615c",
   "metadata": {
    "tags": []
   },
   "outputs": [
    {
     "data": {
      "text/plain": [
       "['__annotations__',\n",
       " '__class__',\n",
       " '__delattr__',\n",
       " '__dict__',\n",
       " '__dir__',\n",
       " '__doc__',\n",
       " '__eq__',\n",
       " '__format__',\n",
       " '__ge__',\n",
       " '__getattribute__',\n",
       " '__getstate__',\n",
       " '__gt__',\n",
       " '__hash__',\n",
       " '__init__',\n",
       " '__init_subclass__',\n",
       " '__le__',\n",
       " '__lt__',\n",
       " '__module__',\n",
       " '__ne__',\n",
       " '__new__',\n",
       " '__reduce__',\n",
       " '__reduce_ex__',\n",
       " '__repr__',\n",
       " '__setattr__',\n",
       " '__sizeof__',\n",
       " '__str__',\n",
       " '__subclasshook__',\n",
       " '__weakref__',\n",
       " '_client',\n",
       " '_delete',\n",
       " '_get',\n",
       " '_get_api_list',\n",
       " '_patch',\n",
       " '_post',\n",
       " '_put',\n",
       " '_sleep',\n",
       " 'completions',\n",
       " 'with_raw_response',\n",
       " 'with_streaming_response']"
      ]
     },
     "execution_count": 25,
     "metadata": {},
     "output_type": "execute_result"
    }
   ],
   "source": [
    "# dir(client.chat)"
   ]
  },
  {
   "cell_type": "code",
   "execution_count": null,
   "id": "746f4812-2521-45b3-b125-33a0152bf904",
   "metadata": {},
   "outputs": [],
   "source": []
  }
 ],
 "metadata": {
  "kernelspec": {
   "display_name": "Python 3 (ipykernel)",
   "language": "python",
   "name": "python3"
  },
  "language_info": {
   "codemirror_mode": {
    "name": "ipython",
    "version": 3
   },
   "file_extension": ".py",
   "mimetype": "text/x-python",
   "name": "python",
   "nbconvert_exporter": "python",
   "pygments_lexer": "ipython3",
   "version": "3.11.5"
  }
 },
 "nbformat": 4,
 "nbformat_minor": 5
}
